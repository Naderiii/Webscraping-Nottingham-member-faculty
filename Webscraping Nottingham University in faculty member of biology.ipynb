{
 "cells": [
  {
   "cell_type": "markdown",
   "id": "312c5f89",
   "metadata": {},
   "source": [
    "# Import libraries and modules"
   ]
  },
  {
   "cell_type": "code",
   "execution_count": 1,
   "id": "ac617c6e",
   "metadata": {},
   "outputs": [],
   "source": [
    "# selenium impoet here\n",
    "\n",
    "from selenium import webdriver\n",
    "from selenium.webdriver.common.by import By\n",
    "from selenium.webdriver.chrome.service import Service\n",
    "\n",
    "from selenium.webdriver.support.ui import WebDriverWait\n",
    "from selenium.webdriver.support import expected_conditions as EC\n",
    "from selenium.webdriver.common.keys import Keys\n"
   ]
  },
  {
   "cell_type": "code",
   "execution_count": 2,
   "id": "fcb10c25",
   "metadata": {},
   "outputs": [],
   "source": [
    "# Other import here\n",
    "\n",
    "import pandas as pd\n",
    "import time\n"
   ]
  },
  {
   "cell_type": "markdown",
   "id": "752e067d",
   "metadata": {},
   "source": [
    "# Start and Setup"
   ]
  },
  {
   "cell_type": "code",
   "execution_count": 3,
   "id": "1fe431cf",
   "metadata": {},
   "outputs": [],
   "source": [
    "start_time = time.time()\n",
    "url = \"https://www.ntu.ac.uk/search?query=Faculty%20member%20of%20biology&category=&sort=relevance&category=Staff\"\n",
    "s = Service(\"chromedriver-win32/chromedriver\")\n",
    "\n",
    "driver = webdriver.Chrome(service = s)\n",
    "driver.get(url)\n",
    "time.sleep(3)"
   ]
  },
  {
   "cell_type": "code",
   "execution_count": 4,
   "id": "087c8fb3",
   "metadata": {},
   "outputs": [],
   "source": [
    "# Close cookie banner if present\n",
    "try:\n",
    "    WebDriverWait(driver, 10).until(EC.element_to_be_clickable((By.CLASS_NAME, \"accept-cookies\"))).click()\n",
    "except:\n",
    "    pass"
   ]
  },
  {
   "cell_type": "markdown",
   "id": "e78e2cc4",
   "metadata": {},
   "source": [
    "# Filter of staff"
   ]
  },
  {
   "cell_type": "code",
   "execution_count": null,
   "id": "47809c72",
   "metadata": {},
   "outputs": [],
   "source": [
    "# select staff checkbox members\n",
    "\n",
    "# driver.maximize_window()\n",
    "# sttaf_chechbox = driver.find_element(By.XPATH, value = '//label[@for = \"Staff\"]')\n",
    "# sttaf_chechbox.click()\n",
    "# time.sleep(5)"
   ]
  },
  {
   "cell_type": "markdown",
   "id": "731cbe17",
   "metadata": {},
   "source": [
    "# Find data"
   ]
  },
  {
   "cell_type": "code",
   "execution_count": null,
   "id": "85b28d0c",
   "metadata": {},
   "outputs": [],
   "source": [
    "# Load all results of search\n",
    "\n",
    "result_count = driver.find_element(By.XPATH, value= '//strong[@class = \"resultCount\"]').text\n",
    "result_count = int(result_count)\n",
    "\n",
    "if result_count % 10 == 0:\n",
    "    page_count = result_count // 10\n",
    "else:\n",
    "    page_count = result_count // 10 + 1\n",
    "\n",
    "for i in range(page_count):\n",
    "        next_page = driver.find_element(By.XPATH, value = '//a[@class = \"more-results\" ]')\n",
    "        next_page.get_attribute(\"data-more\")\n",
    "        next_page.click()\n",
    "        time.sleep(5)\n",
    "    "
   ]
  },
  {
   "cell_type": "code",
   "execution_count": null,
   "id": "32bfef83",
   "metadata": {},
   "outputs": [],
   "source": [
    "# all_items = driver.find_elements(By.XPATH, value = '//li[@class = \"result clearfix\"]')\n",
    "\n",
    "# for i in range(len(all_items)):\n",
    "#     item = driver.find_elements(By.XPATH, value = '//li[@class = \"result clearfix\"]')[i]\n",
    "#     links_prof_page = item.find_element(By.XPATH , value = './/h2[@class = \"result-title  skim-bottom\"]//a')\n",
    "#     links_prof_page.click()\n",
    "#     driver.back()\n",
    "    \n",
    "    "
   ]
  },
  {
   "cell_type": "code",
   "execution_count": null,
   "id": "a4aa7243",
   "metadata": {},
   "outputs": [],
   "source": [
    "data = []\n",
    "\n",
    "# select all of the items in the page\n",
    "all_items = driver.find_elements(By.XPATH, value = '//li[@class = \"result clearfix\"]')\n",
    "for i in range(len(all_items)):\n",
    "\n",
    "# get link of profile for each prof (item) and go that site\n",
    "    try:\n",
    "        item = driver.find_elements(By.XPATH, value = '//li[@class = \"result clearfix\"]')[i]\n",
    "        links_prof_page = item.find_element(By.XPATH , value = './/h2[@class = \"result-title  skim-bottom\"]//a')\n",
    "        links_prof_page.click()\n",
    "\n",
    "        page_prof = driver.find_elements(By.XPATH , value = '//main[@class = \"main\"]')\n",
    "\n",
    "# In page of profile, get name, email and research area\n",
    "        for section in page_prof:\n",
    "            try:\n",
    "                name = section.find_element(By.XPATH , value = \".//h1[@class='page-heading skim-top skim-bottom']//span[1]\").text\n",
    "            except:\n",
    "                name = \"Unknown\"\n",
    "\n",
    "            try:\n",
    "                email = section.find_element(By.XPATH  , value = './/a[@itemprop= \"email\"]').text\n",
    "            except:\n",
    "                email = \"Unknown\"\n",
    "\n",
    "            try:\n",
    "                research_area = section.find_element(By.XPATH , value = './/div[@class= \"grey-shade key-panel\"]').text\n",
    "            except:\n",
    "                research_area = \"Unkown\"         \n",
    "\n",
    "            data.append([name, email , research_area])\n",
    "\n",
    "# go back to the sttuf page\n",
    "        driver.back()\n",
    "    except:\n",
    "        print(\"break1\")\n",
    "        break\n"
   ]
  },
  {
   "cell_type": "code",
   "execution_count": null,
   "id": "ffdd162c",
   "metadata": {},
   "outputs": [],
   "source": [
    "data"
   ]
  },
  {
   "cell_type": "code",
   "execution_count": null,
   "id": "e6b51b22",
   "metadata": {},
   "outputs": [],
   "source": [
    "len(data)"
   ]
  },
  {
   "cell_type": "markdown",
   "id": "bea990f6",
   "metadata": {},
   "source": [
    "# Create Pandas Dataframe"
   ]
  },
  {
   "cell_type": "code",
   "execution_count": null,
   "id": "5b29c3b1",
   "metadata": {},
   "outputs": [],
   "source": [
    "df = pd.DataFrame(data, columns = ['Name', 'email', 'research_area'])\n",
    "df"
   ]
  },
  {
   "cell_type": "code",
   "execution_count": null,
   "id": "6bcc1a99",
   "metadata": {},
   "outputs": [],
   "source": [
    "df.to_csv(\"faculty_member_notthingham.csv\", index=False)"
   ]
  },
  {
   "cell_type": "code",
   "execution_count": null,
   "id": "2f1d91ae",
   "metadata": {},
   "outputs": [],
   "source": []
  }
 ],
 "metadata": {
  "kernelspec": {
   "display_name": "Python 3 (ipykernel)",
   "language": "python",
   "name": "python3"
  },
  "language_info": {
   "codemirror_mode": {
    "name": "ipython",
    "version": 3
   },
   "file_extension": ".py",
   "mimetype": "text/x-python",
   "name": "python",
   "nbconvert_exporter": "python",
   "pygments_lexer": "ipython3",
   "version": "3.11.2"
  }
 },
 "nbformat": 4,
 "nbformat_minor": 5
}
