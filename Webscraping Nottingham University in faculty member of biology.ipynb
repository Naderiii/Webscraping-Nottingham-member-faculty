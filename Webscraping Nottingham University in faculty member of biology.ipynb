{
 "cells": [
  {
   "cell_type": "markdown",
   "id": "312c5f89",
   "metadata": {},
   "source": [
    "# Import libraries and modules"
   ]
  },
  {
   "cell_type": "code",
   "execution_count": 22,
   "id": "ac617c6e",
   "metadata": {},
   "outputs": [],
   "source": [
    "# selenium import here\n",
    "\n",
    "from selenium import webdriver\n",
    "from selenium.webdriver.common.by import By\n",
    "from selenium.webdriver.chrome.service import Service\n",
    "\n",
    "from selenium.webdriver.support.ui import WebDriverWait\n",
    "from selenium.webdriver.support import expected_conditions as EC\n",
    "from selenium.webdriver.common.keys import Keys\n"
   ]
  },
  {
   "cell_type": "code",
   "execution_count": 23,
   "id": "fcb10c25",
   "metadata": {},
   "outputs": [],
   "source": [
    "# Other import here\n",
    "\n",
    "import pandas as pd\n",
    "import time\n"
   ]
  },
  {
   "cell_type": "markdown",
   "id": "752e067d",
   "metadata": {},
   "source": [
    "# Start and Setup"
   ]
  },
  {
   "cell_type": "code",
   "execution_count": 24,
   "id": "1fe431cf",
   "metadata": {},
   "outputs": [],
   "source": [
    "\n",
    "start_time = time.time()\n",
    "url = \"https://www.ntu.ac.uk/search?query=Faculty%20member%20of%20biology&category=&sort=relevance&category=Staff\"\n",
    "s = Service(\"chromedriver-win32/chromedriver\")\n",
    "\n",
    "driver = webdriver.Chrome(service = s)\n",
    "driver.get(url)\n",
    "time.sleep(3)\n"
   ]
  },
  {
   "cell_type": "code",
   "execution_count": 26,
   "id": "087c8fb3",
   "metadata": {},
   "outputs": [],
   "source": [
    "# Close cookie banner if present\n",
    "\n",
    "try:\n",
    "    WebDriverWait(driver, 10).until(EC.element_to_be_clickable((By.CLASS_NAME, \"accept-cookies\"))).click()\n",
    "except:\n",
    "    pass"
   ]
  },
  {
   "cell_type": "markdown",
   "id": "e78e2cc4",
   "metadata": {},
   "source": [
    "# Filter of staff"
   ]
  },
  {
   "cell_type": "code",
   "execution_count": null,
   "id": "47809c72",
   "metadata": {},
   "outputs": [],
   "source": [
    "# select staff checkbox members\n",
    "\n",
    "# driver.maximize_window()\n",
    "# sttaf_chechbox = driver.find_element(By.XPATH, value = '//label[@for = \"Staff\"]')\n",
    "# sttaf_chechbox.click()\n",
    "# time.sleep(5)"
   ]
  },
  {
   "cell_type": "markdown",
   "id": "68be3ff3",
   "metadata": {},
   "source": [
    "### Load all results of search"
   ]
  },
  {
   "cell_type": "code",
   "execution_count": 27,
   "id": "5acee857",
   "metadata": {},
   "outputs": [
    {
     "name": "stdout",
     "output_type": "stream",
     "text": [
      "160\n"
     ]
    }
   ],
   "source": [
    "\n",
    "result_count = driver.find_element(By.XPATH, value= '//strong[@class = \"resultCount\"]').text\n",
    "result_count = int(result_count)\n",
    "print(result_count)\n"
   ]
  },
  {
   "cell_type": "code",
   "execution_count": 35,
   "id": "99641bb6",
   "metadata": {},
   "outputs": [],
   "source": [
    "\n",
    "if result_count % 10 == 0:\n",
    "    page_count = result_count // 10 - 1\n",
    "else:\n",
    "    page_count = result_count // 10\n",
    "\n",
    "for i in range(page_count):\n",
    "        next_page = driver.find_element(By.XPATH, value = '//a[@class = \"more-results\" ]')\n",
    "        next_page.get_attribute(\"data-more\")\n",
    "        next_page.click()\n",
    "        time.sleep(10)\n",
    "    "
   ]
  },
  {
   "cell_type": "markdown",
   "id": "913ba296",
   "metadata": {},
   "source": [
    "### get list of sttuf link "
   ]
  },
  {
   "cell_type": "code",
   "execution_count": 36,
   "id": "aba8f0c2",
   "metadata": {},
   "outputs": [
    {
     "name": "stdout",
     "output_type": "stream",
     "text": [
      "['https://ntu.ac.uk/__search/s/redirect?collection=ntu~sp-global&url=https%3A%2F%2Fwww.ntu.ac.uk%2Fstaff-profiles%2Fsocial-sciences%2Frichard-mcfarland&auth=cbyRIqkEG12QtlQ5RC55ug&profile=_default&rank=1&query=Faculty+member+of+biology+%7Ccategory%3A%22%24%2B%2B+Staff+%24%2B%2B%22', 'https://ntu.ac.uk/__search/s/redirect?collection=ntu~sp-global&url=https%3A%2F%2Fwww.ntu.ac.uk%2Fstaff-profiles%2Fscience-technology%2Fadnan-saithna&auth=QIE39khwY6VpiA7zCIN10w&profile=_default&rank=2&query=Faculty+member+of+biology+%7Ccategory%3A%22%24%2B%2B+Staff+%24%2B%2B%22', 'https://ntu.ac.uk/__search/s/redirect?collection=ntu~sp-global&url=https%3A%2F%2Fwww.ntu.ac.uk%2Fstaff-profiles%2Fscience-technology%2Fsergio-rutella&auth=cT54Se9qDLaXi2tYdgilig&profile=_default&rank=3&query=Faculty+member+of+biology+%7Ccategory%3A%22%24%2B%2B+Staff+%24%2B%2B%22', 'https://ntu.ac.uk/__search/s/redirect?collection=ntu~sp-global&url=https%3A%2F%2Fwww.ntu.ac.uk%2Fstaff-profiles%2Fscience-technology%2Fpetros-siegkas&auth=G8iCCz11g%2Bg1WCclg%2FMvDA&profile=_default&rank=4&query=Faculty+member+of+biology+%7Ccategory%3A%22%24%2B%2B+Staff+%24%2B%2B%22', 'https://ntu.ac.uk/__search/s/redirect?collection=ntu~sp-global&url=https%3A%2F%2Fwww.ntu.ac.uk%2Fstaff-profiles%2Flaw%2Fseema-patel&auth=2biJ1QNFs7eNtBWUzyALDg&profile=_default&rank=5&query=Faculty+member+of+biology+%7Ccategory%3A%22%24%2B%2B+Staff+%24%2B%2B%22', 'https://ntu.ac.uk/__search/s/redirect?collection=ntu~sp-global&url=https%3A%2F%2Fwww.ntu.ac.uk%2Fstaff-profiles%2Fscience-technology%2Fstephanie-mcardle&auth=4unQH0MnBzcXzfZL34nwOQ&profile=_default&rank=6&query=Faculty+member+of+biology+%7Ccategory%3A%22%24%2B%2B+Staff+%24%2B%2B%22', 'https://ntu.ac.uk/__search/s/redirect?collection=ntu~sp-global&url=https%3A%2F%2Fwww.ntu.ac.uk%2Fstaff-profiles%2Fscience-technology%2Fmark-turner&auth=Z5hHTO7P53fgMG%2FwxTnPBw&profile=_default&rank=7&query=Faculty+member+of+biology+%7Ccategory%3A%22%24%2B%2B+Staff+%24%2B%2B%22', 'https://ntu.ac.uk/__search/s/redirect?collection=ntu~sp-global&url=https%3A%2F%2Fwww.ntu.ac.uk%2Fstaff-profiles%2Flaw%2Faugustine-arimoro&auth=Icra4mZHpfmlP2huZ%2F0HNw&profile=_default&rank=8&query=Faculty+member+of+biology+%7Ccategory%3A%22%24%2B%2B+Staff+%24%2B%2B%22', 'https://ntu.ac.uk/__search/s/redirect?collection=ntu~sp-global&url=https%3A%2F%2Fwww.ntu.ac.uk%2Fstaff-profiles%2Flaw%2Fsue-mclaughlin&auth=tS1OvIaZivJl%2FbNDG1Td6A&profile=_default&rank=9&query=Faculty+member+of+biology+%7Ccategory%3A%22%24%2B%2B+Staff+%24%2B%2B%22', 'https://ntu.ac.uk/__search/s/redirect?collection=ntu~sp-global&url=https%3A%2F%2Fwww.ntu.ac.uk%2Fstaff-profiles%2Fbusiness%2Fyvonne-carlisle&auth=edvhjxUv1pIpuko%2BQBlrJA&profile=_default&rank=10&query=Faculty+member+of+biology+%7Ccategory%3A%22%24%2B%2B+Staff+%24%2B%2B%22', 'https://ntu.ac.uk/__search/s/redirect?collection=ntu~sp-global&url=https%3A%2F%2Fwww.ntu.ac.uk%2Fstaff-profiles%2Fscience-technology%2Fchristian-thode&auth=wpqNfv3PF%2FGbRbOdiAQTww&profile=global-search&rank=11&query=Faculty+member+of+biology+%7Ccategory%3A%22%24%2B%2B+Staff+%24%2B%2B%22', 'https://ntu.ac.uk/__search/s/redirect?collection=ntu~sp-global&url=https%3A%2F%2Fwww.ntu.ac.uk%2Fstaff-profiles%2Fbusiness%2Fandrew-cooke&auth=8%2FZQSBNRk93QWmgDqHgGxA&profile=global-search&rank=12&query=Faculty+member+of+biology+%7Ccategory%3A%22%24%2B%2B+Staff+%24%2B%2B%22', 'https://ntu.ac.uk/__search/s/redirect?collection=ntu~sp-global&url=https%3A%2F%2Fwww.ntu.ac.uk%2Fstaff-profiles%2Fscience-technology%2Fconor-meehan&auth=HxQCT6QZNMhApR%2BDTRl6uA&profile=global-search&rank=13&query=Faculty+member+of+biology+%7Ccategory%3A%22%24%2B%2B+Staff+%24%2B%2B%22', 'https://ntu.ac.uk/__search/s/redirect?collection=ntu~sp-global&url=https%3A%2F%2Fwww.ntu.ac.uk%2Fstaff-profiles%2Fsocial-sciences%2Frobert-dingwall&auth=fhOCPZMyRZBPDH5cYNSBXA&profile=global-search&rank=14&query=Faculty+member+of+biology+%7Ccategory%3A%22%24%2B%2B+Staff+%24%2B%2B%22', 'https://ntu.ac.uk/__search/s/redirect?collection=ntu~sp-global&url=https%3A%2F%2Fwww.ntu.ac.uk%2Fstaff-profiles%2Fscience-technology%2Fphilip-hennis&auth=6%2BCrAlvyLFSK0uyYXs7giA&profile=global-search&rank=15&query=Faculty+member+of+biology+%7Ccategory%3A%22%24%2B%2B+Staff+%24%2B%2B%22', 'https://ntu.ac.uk/__search/s/redirect?collection=ntu~sp-global&url=https%3A%2F%2Fwww.ntu.ac.uk%2Fstaff-profiles%2Farchitecture-design-built-environment%2Fjia-michelle-cui&auth=egpr6UFzEJjqdEjTK%2F3YJA&profile=global-search&rank=16&query=Faculty+member+of+biology+%7Ccategory%3A%22%24%2B%2B+Staff+%24%2B%2B%22', 'https://ntu.ac.uk/__search/s/redirect?collection=ntu~sp-global&url=https%3A%2F%2Fwww.ntu.ac.uk%2Fstaff-profiles%2Farchitecture-design-built-environment%2Frichard-bull&auth=VmWrxvkYO5rjbM2Okf3yCg&profile=global-search&rank=17&query=Faculty+member+of+biology+%7Ccategory%3A%22%24%2B%2B+Staff+%24%2B%2B%22', 'https://ntu.ac.uk/__search/s/redirect?collection=ntu~sp-global&url=https%3A%2F%2Fwww.ntu.ac.uk%2Fstaff-profiles%2Fscience-technology%2Famanda-coutts&auth=02WPk%2FRzeEIwcc3YryVbJg&profile=global-search&rank=18&query=Faculty+member+of+biology+%7Ccategory%3A%22%24%2B%2B+Staff+%24%2B%2B%22', 'https://ntu.ac.uk/__search/s/redirect?collection=ntu~sp-global&url=https%3A%2F%2Fwww.ntu.ac.uk%2Fstaff-profiles%2Feducation%2Fgaye-tyler-merrick2&auth=pBsN9ND%2BTrI%2F%2FhCYtpDtpw&profile=global-search&rank=19&query=Faculty+member+of+biology+%7Ccategory%3A%22%24%2B%2B+Staff+%24%2B%2B%22', 'https://ntu.ac.uk/__search/s/redirect?collection=ntu~sp-global&url=https%3A%2F%2Fwww.ntu.ac.uk%2Fstaff-profiles%2Fanimal-rural-environmental-sciences%2Falison-northrop&auth=hjFNY5oABVFRPRb7F9vNVQ&profile=global-search&rank=20&query=Faculty+member+of+biology+%7Ccategory%3A%22%24%2B%2B+Staff+%24%2B%2B%22', 'https://ntu.ac.uk/__search/s/redirect?collection=ntu~sp-global&url=https%3A%2F%2Fwww.ntu.ac.uk%2Fstaff-profiles%2Fscience-technology%2Fmartin-nelson&auth=%2FYZ6BfrOvqq9jn0E7frZWw&profile=global-search&rank=21&query=Faculty+member+of+biology+%7Ccategory%3A%22%24%2B%2B+Staff+%24%2B%2B%22', 'https://ntu.ac.uk/__search/s/redirect?collection=ntu~sp-global&url=https%3A%2F%2Fwww.ntu.ac.uk%2Fstaff-profiles%2Fscience-technology%2Fmufti-mahmud&auth=usSIcm8Hq3MB%2Fw5xim90SQ&profile=global-search&rank=22&query=Faculty+member+of+biology+%7Ccategory%3A%22%24%2B%2B+Staff+%24%2B%2B%22', 'https://ntu.ac.uk/__search/s/redirect?collection=ntu~sp-global&url=https%3A%2F%2Fwww.ntu.ac.uk%2Fstaff-profiles%2Fanimal-rural-environmental-sciences%2Frichard-yarnell&auth=TSHI%2FG8A8qXZCQR90NfGJg&profile=global-search&rank=23&query=Faculty+member+of+biology+%7Ccategory%3A%22%24%2B%2B+Staff+%24%2B%2B%22', 'https://ntu.ac.uk/__search/s/redirect?collection=ntu~sp-global&url=https%3A%2F%2Fwww.ntu.ac.uk%2Fstaff-profiles%2Flaw%2Fjohn-rumbold&auth=g3qZQN%2FOen3imLZjhaEIcw&profile=global-search&rank=24&query=Faculty+member+of+biology+%7Ccategory%3A%22%24%2B%2B+Staff+%24%2B%2B%22', 'https://ntu.ac.uk/__search/s/redirect?collection=ntu~sp-global&url=https%3A%2F%2Fwww.ntu.ac.uk%2Fstaff-profiles%2Fscience-technology%2Fdavid-clayton&auth=U6grtD%2BEJv6I%2BnAyPcFZ9Q&profile=global-search&rank=25&query=Faculty+member+of+biology+%7Ccategory%3A%22%24%2B%2B+Staff+%24%2B%2B%22', 'https://ntu.ac.uk/__search/s/redirect?collection=ntu~sp-global&url=https%3A%2F%2Fwww.ntu.ac.uk%2Fstaff-profiles%2Fscience-technology%2Fcharlotte-apps&auth=kwXD5a%2BrKqo6Dqy6vXEQ3A&profile=global-search&rank=26&query=Faculty+member+of+biology+%7Ccategory%3A%22%24%2B%2B+Staff+%24%2B%2B%22', 'https://ntu.ac.uk/__search/s/redirect?collection=ntu~sp-global&url=https%3A%2F%2Fwww.ntu.ac.uk%2Fstaff-profiles%2Fsocial-sciences%2Ftom-vickers&auth=%2FmB7dVmd96dbC9vX4cIdSg&profile=global-search&rank=27&query=Faculty+member+of+biology+%7Ccategory%3A%22%24%2B%2B+Staff+%24%2B%2B%22', 'https://ntu.ac.uk/__search/s/redirect?collection=ntu~sp-global&url=https%3A%2F%2Fwww.ntu.ac.uk%2Fstaff-profiles%2Flaw%2Femma-ireton&auth=tK6TlSP9v3pVDOzE5zb7uQ&profile=global-search&rank=28&query=Faculty+member+of+biology+%7Ccategory%3A%22%24%2B%2B+Staff+%24%2B%2B%22', 'https://ntu.ac.uk/__search/s/redirect?collection=ntu~sp-global&url=https%3A%2F%2Fwww.ntu.ac.uk%2Fstaff-profiles%2Fanimal-rural-environmental-sciences%2Flouise-gentle&auth=EaScmDPme11uat%2BL0xfcSg&profile=global-search&rank=29&query=Faculty+member+of+biology+%7Ccategory%3A%22%24%2B%2B+Staff+%24%2B%2B%22', 'https://ntu.ac.uk/__search/s/redirect?collection=ntu~sp-global&url=https%3A%2F%2Fwww.ntu.ac.uk%2Fstaff-profiles%2Fart-design%2Frichard-arm&auth=zILY9brbC76Zwv32aiqGuA&profile=global-search&rank=30&query=Faculty+member+of+biology+%7Ccategory%3A%22%24%2B%2B+Staff+%24%2B%2B%22', 'https://ntu.ac.uk/__search/s/redirect?collection=ntu~sp-global&url=https%3A%2F%2Fwww.ntu.ac.uk%2Fstaff-profiles%2Fanimal-rural-environmental-sciences%2Fsally-little&auth=7HkDU49YCHBUc5mcyQSXNg&profile=global-search&rank=31&query=Faculty+member+of+biology+%7Ccategory%3A%22%24%2B%2B+Staff+%24%2B%2B%22', 'https://ntu.ac.uk/__search/s/redirect?collection=ntu~sp-global&url=https%3A%2F%2Fwww.ntu.ac.uk%2Fstaff-profiles%2Fscience-technology%2Fjohn-d-wallis&auth=pXI%2Fl3zeMXeV5v3hmRMOcw&profile=global-search&rank=32&query=Faculty+member+of+biology+%7Ccategory%3A%22%24%2B%2B+Staff+%24%2B%2B%22', 'https://ntu.ac.uk/__search/s/redirect?collection=ntu~sp-global&url=https%3A%2F%2Fwww.ntu.ac.uk%2Fstaff-profiles%2Fresearch%2Fyvonne-barnett&auth=SK8e80EiNF5XEck72ZO4%2Bg&profile=global-search&rank=33&query=Faculty+member+of+biology+%7Ccategory%3A%22%24%2B%2B+Staff+%24%2B%2B%22', 'https://ntu.ac.uk/__search/s/redirect?collection=ntu~sp-global&url=https%3A%2F%2Fwww.ntu.ac.uk%2Fstaff-profiles%2Fbusiness%2Fliza-pybus&auth=bzY0N5%2BvnCGyNBnhvWMVPA&profile=global-search&rank=34&query=Faculty+member+of+biology+%7Ccategory%3A%22%24%2B%2B+Staff+%24%2B%2B%22', 'https://ntu.ac.uk/__search/s/redirect?collection=ntu~sp-global&url=https%3A%2F%2Fwww.ntu.ac.uk%2Fstaff-profiles%2Fscience-technology%2Fadaikala-antonysunil&auth=9J1fB7GfauhXVioBnTQa2Q&profile=global-search&rank=35&query=Faculty+member+of+biology+%7Ccategory%3A%22%24%2B%2B+Staff+%24%2B%2B%22', 'https://ntu.ac.uk/__search/s/redirect?collection=ntu~sp-global&url=https%3A%2F%2Fwww.ntu.ac.uk%2Fstaff-profiles%2Fscience-technology%2Ffarooq-sher&auth=9SSZWaV05Z3y2bZ1VDVG2Q&profile=global-search&rank=36&query=Faculty+member+of+biology+%7Ccategory%3A%22%24%2B%2B+Staff+%24%2B%2B%22', 'https://ntu.ac.uk/__search/s/redirect?collection=ntu~sp-global&url=https%3A%2F%2Fwww.ntu.ac.uk%2Fstaff-profiles%2Flaw%2Fvasileios-adamidis&auth=X9A7l18RXGlZv5E1aPBnxw&profile=global-search&rank=37&query=Faculty+member+of+biology+%7Ccategory%3A%22%24%2B%2B+Staff+%24%2B%2B%22', 'https://ntu.ac.uk/__search/s/redirect?collection=ntu~sp-global&url=https%3A%2F%2Fwww.ntu.ac.uk%2Fstaff-profiles%2Fbusiness%2Fgary-harden&auth=lo4fjeYhiomv7duiiBdFCA&profile=global-search&rank=38&query=Faculty+member+of+biology+%7Ccategory%3A%22%24%2B%2B+Staff+%24%2B%2B%22', 'https://ntu.ac.uk/__search/s/redirect?collection=ntu~sp-global&url=https%3A%2F%2Fwww.ntu.ac.uk%2Fstaff-profiles%2Fbusiness%2Fclaudia-bordogna&auth=FtwLwFH53cOfTiRvKnRqAg&profile=global-search&rank=39&query=Faculty+member+of+biology+%7Ccategory%3A%22%24%2B%2B+Staff+%24%2B%2B%22', 'https://ntu.ac.uk/__search/s/redirect?collection=ntu~sp-global&url=https%3A%2F%2Fwww.ntu.ac.uk%2Fstaff-profiles%2Fscience-technology%2Fbunmi-omorotionmwan&auth=GVhrLuYAqFiM%2BGcUaB4%2BZQ&profile=global-search&rank=40&query=Faculty+member+of+biology+%7Ccategory%3A%22%24%2B%2B+Staff+%24%2B%2B%22', 'https://ntu.ac.uk/__search/s/redirect?collection=ntu~sp-global&url=https%3A%2F%2Fwww.ntu.ac.uk%2Fstaff-profiles%2Fscience-technology%2Fcolombo-sergio&auth=9gMWKXvQfGSuNMuioXmLCA&profile=global-search&rank=41&query=Faculty+member+of+biology+%7Ccategory%3A%22%24%2B%2B+Staff+%24%2B%2B%22', 'https://ntu.ac.uk/__search/s/redirect?collection=ntu~sp-global&url=https%3A%2F%2Fwww.ntu.ac.uk%2Fstaff-profiles%2Fscience-technology%2Fjonathan-thomas&auth=W4YsK2MlOnb2tJ0cu0ifmg&profile=global-search&rank=42&query=Faculty+member+of+biology+%7Ccategory%3A%22%24%2B%2B+Staff+%24%2B%2B%22', 'https://ntu.ac.uk/__search/s/redirect?collection=ntu~sp-global&url=https%3A%2F%2Fwww.ntu.ac.uk%2Fstaff-profiles%2Fboard-of-governors%2Fsara-murcott&auth=Jg1LMAeVxv%2B37ZDbvFrGLA&profile=global-search&rank=43&query=Faculty+member+of+biology+%7Ccategory%3A%22%24%2B%2B+Staff+%24%2B%2B%22', 'https://ntu.ac.uk/__search/s/redirect?collection=ntu~sp-global&url=https%3A%2F%2Fwww.ntu.ac.uk%2Fstaff-profiles%2Farchived%2Fkim-cassidy&auth=DaywUYIu2cab%2Famf9jESrQ&profile=global-search&rank=44&query=Faculty+member+of+biology+%7Ccategory%3A%22%24%2B%2B+Staff+%24%2B%2B%22', 'https://ntu.ac.uk/__search/s/redirect?collection=ntu~sp-global&url=https%3A%2F%2Fwww.ntu.ac.uk%2Fstaff-profiles%2Fscience-technology%2Fjessica-dale&auth=UG4yXdE%2BebcZkXoJSFOXEg&profile=global-search&rank=45&query=Faculty+member+of+biology+%7Ccategory%3A%22%24%2B%2B+Staff+%24%2B%2B%22', 'https://ntu.ac.uk/__search/s/redirect?collection=ntu~sp-global&url=https%3A%2F%2Fwww.ntu.ac.uk%2Fstaff-profiles%2Fbusiness%2Fdongmei-cao&auth=%2BUh2CejhbCg7JFs0YpHdsg&profile=global-search&rank=46&query=Faculty+member+of+biology+%7Ccategory%3A%22%24%2B%2B+Staff+%24%2B%2B%22', 'https://ntu.ac.uk/__search/s/redirect?collection=ntu~sp-global&url=https%3A%2F%2Fwww.ntu.ac.uk%2Fstaff-profiles%2Fboard-of-governors%2Fjon-scott&auth=%2BPrqZ0%2Bn9GuLzy3xsRoB8g&profile=global-search&rank=47&query=Faculty+member+of+biology+%7Ccategory%3A%22%24%2B%2B+Staff+%24%2B%2B%22', 'https://ntu.ac.uk/__search/s/redirect?collection=ntu~sp-global&url=https%3A%2F%2Fwww.ntu.ac.uk%2Fstaff-profiles%2Fbusiness%2Fduminda-rajsinghe&auth=ypwyyB1LeyTuADTfmPOPoA&profile=global-search&rank=48&query=Faculty+member+of+biology+%7Ccategory%3A%22%24%2B%2B+Staff+%24%2B%2B%22', 'https://ntu.ac.uk/__search/s/redirect?collection=ntu~sp-global&url=https%3A%2F%2Fwww.ntu.ac.uk%2Fstaff-profiles%2Fscience-technology%2Famin-safaei&auth=%2B2tuNEirX%2FE0qwK%2Bifa0iw&profile=global-search&rank=49&query=Faculty+member+of+biology+%7Ccategory%3A%22%24%2B%2B+Staff+%24%2B%2B%22', 'https://ntu.ac.uk/__search/s/redirect?collection=ntu~sp-global&url=https%3A%2F%2Fwww.ntu.ac.uk%2Fstaff-profiles%2Fscience-technology%2Fnikolaos-kalfagiannis&auth=QfrZh8OZT%2BxVyhNMeJ%2FN9w&profile=global-search&rank=50&query=Faculty+member+of+biology+%7Ccategory%3A%22%24%2B%2B+Staff+%24%2B%2B%22', 'https://ntu.ac.uk/__search/s/redirect?collection=ntu~sp-global&url=https%3A%2F%2Fwww.ntu.ac.uk%2Fstaff-profiles%2Fntu-global%2Fvidhi-sahae&auth=MvF0nCxvkF7h5v1jXg%2FhWQ&profile=global-search&rank=51&query=Faculty+member+of+biology+%7Ccategory%3A%22%24%2B%2B+Staff+%24%2B%2B%22', 'https://ntu.ac.uk/__search/s/redirect?collection=ntu~sp-global&url=https%3A%2F%2Fwww.ntu.ac.uk%2Fstaff-profiles%2Fscience-technology%2Fpurvi-mali&auth=yqwTFoaxMC62uQCnCuUDrg&profile=global-search&rank=52&query=Faculty+member+of+biology+%7Ccategory%3A%22%24%2B%2B+Staff+%24%2B%2B%22', 'https://ntu.ac.uk/__search/s/redirect?collection=ntu~sp-global&url=https%3A%2F%2Fwww.ntu.ac.uk%2Fstaff-profiles%2Fbusiness%2Fdouglas-renwick&auth=eh3s4ppNBIXX2OaQ1OqZtA&profile=global-search&rank=53&query=Faculty+member+of+biology+%7Ccategory%3A%22%24%2B%2B+Staff+%24%2B%2B%22', 'https://ntu.ac.uk/__search/s/redirect?collection=ntu~sp-global&url=https%3A%2F%2Fwww.ntu.ac.uk%2Fstaff-profiles%2Farchived%2Fkate-burnett&auth=1KPDvdoGDGr04sRZj%2BiFMg&profile=global-search&rank=54&query=Faculty+member+of+biology+%7Ccategory%3A%22%24%2B%2B+Staff+%24%2B%2B%22', 'https://ntu.ac.uk/__search/s/redirect?collection=ntu~sp-global&url=https%3A%2F%2Fwww.ntu.ac.uk%2Fstaff-profiles%2Fart-design%2Fbenedict-carpenter&auth=dHlWMrAF5eaHo1ywdHiAUQ&profile=global-search&rank=55&query=Faculty+member+of+biology+%7Ccategory%3A%22%24%2B%2B+Staff+%24%2B%2B%22', 'https://ntu.ac.uk/__search/s/redirect?collection=ntu~sp-global&url=https%3A%2F%2Fwww.ntu.ac.uk%2Fstaff-profiles%2Fsocial-sciences%2Feithne-kavanagh&auth=WnpfNfF8HXCml%2Fsq8JjrhA&profile=global-search&rank=56&query=Faculty+member+of+biology+%7Ccategory%3A%22%24%2B%2B+Staff+%24%2B%2B%22', 'https://ntu.ac.uk/__search/s/redirect?collection=ntu~sp-global&url=https%3A%2F%2Fwww.ntu.ac.uk%2Fstaff-profiles%2Fscience-technology%2Fgraham-ball&auth=pQgwdWN20BECGo%2Fzk8Ffcg&profile=global-search&rank=57&query=Faculty+member+of+biology+%7Ccategory%3A%22%24%2B%2B+Staff+%24%2B%2B%22', 'https://ntu.ac.uk/__search/s/redirect?collection=ntu~sp-global&url=https%3A%2F%2Fwww.ntu.ac.uk%2Fstaff-profiles%2Fsocial-sciences%2Fmark-torrance&auth=3WjNnGP%2FhuCzSwVxZ34dpg&profile=global-search&rank=58&query=Faculty+member+of+biology+%7Ccategory%3A%22%24%2B%2B+Staff+%24%2B%2B%22', 'https://ntu.ac.uk/__search/s/redirect?collection=ntu~sp-global&url=https%3A%2F%2Fwww.ntu.ac.uk%2Fstaff-profiles%2Fsenior-management-team%2Frichard-emes&auth=PdvmdBZ45de4fstPxLr5%2BQ&profile=global-search&rank=59&query=Faculty+member+of+biology+%7Ccategory%3A%22%24%2B%2B+Staff+%24%2B%2B%22', 'https://ntu.ac.uk/__search/s/redirect?collection=ntu~sp-global&url=https%3A%2F%2Fwww.ntu.ac.uk%2Fstaff-profiles%2Fbusiness%2Fdr-elmina-homapour&auth=3%2B0w8EqGtQQaGUlK%2Fdjiuw&profile=global-search&rank=60&query=Faculty+member+of+biology+%7Ccategory%3A%22%24%2B%2B+Staff+%24%2B%2B%22', 'https://ntu.ac.uk/__search/s/redirect?collection=ntu~sp-global&url=https%3A%2F%2Fwww.ntu.ac.uk%2Fstaff-profiles%2Fscience-technology%2Fcallum-rimmer&auth=4%2BNFEyBDjakoq%2Fu6Tk9mMA&profile=global-search&rank=61&query=Faculty+member+of+biology+%7Ccategory%3A%22%24%2B%2B+Staff+%24%2B%2B%22', 'https://ntu.ac.uk/__search/s/redirect?collection=ntu~sp-global&url=https%3A%2F%2Fwww.ntu.ac.uk%2Fstaff-profiles%2Fscience-technology%2Fnelson-chong&auth=wK3ZQ%2B1E95j4bhq76Bz2Og&profile=global-search&rank=62&query=Faculty+member+of+biology+%7Ccategory%3A%22%24%2B%2B+Staff+%24%2B%2B%22', 'https://ntu.ac.uk/__search/s/redirect?collection=ntu~sp-global&url=https%3A%2F%2Fwww.ntu.ac.uk%2Fstaff-profiles%2Fscience-technology%2Farif&auth=S4CxkPFtvWmXFdTP5ydebw&profile=global-search&rank=63&query=Faculty+member+of+biology+%7Ccategory%3A%22%24%2B%2B+Staff+%24%2B%2B%22', 'https://ntu.ac.uk/__search/s/redirect?collection=ntu~sp-global&url=https%3A%2F%2Fwww.ntu.ac.uk%2Fstaff-profiles%2Feducation%2Falison-hardy&auth=f5IUwr6mvwj1NWjLQcqiDw&profile=global-search&rank=64&query=Faculty+member+of+biology+%7Ccategory%3A%22%24%2B%2B+Staff+%24%2B%2B%22', 'https://ntu.ac.uk/__search/s/redirect?collection=ntu~sp-global&url=https%3A%2F%2Fwww.ntu.ac.uk%2Fstaff-profiles%2Fscience-technology%2Fzuzana-hucki&auth=ABTXoSyK%2FBaLTNLonKAIdg&profile=global-search&rank=65&query=Faculty+member+of+biology+%7Ccategory%3A%22%24%2B%2B+Staff+%24%2B%2B%22', 'https://ntu.ac.uk/__search/s/redirect?collection=ntu~sp-global&url=https%3A%2F%2Fwww.ntu.ac.uk%2Fstaff-profiles%2Fbusiness%2Fbaback-yazdani&auth=mEgqCuY4xyFPYFX4LLvLoA&profile=global-search&rank=66&query=Faculty+member+of+biology+%7Ccategory%3A%22%24%2B%2B+Staff+%24%2B%2B%22', 'https://ntu.ac.uk/__search/s/redirect?collection=ntu~sp-global&url=https%3A%2F%2Fwww.ntu.ac.uk%2Fstaff-profiles%2Fscience-technology%2Falexandros-konios&auth=IajmO7TVd%2BGwKxRHO%2Fn4aA&profile=global-search&rank=67&query=Faculty+member+of+biology+%7Ccategory%3A%22%24%2B%2B+Staff+%24%2B%2B%22', 'https://ntu.ac.uk/__search/s/redirect?collection=ntu~sp-global&url=https%3A%2F%2Fwww.ntu.ac.uk%2Fstaff-profiles%2Feducation%2Fkrishan-sood&auth=rKisRVj4Yy6rjOmHKkWWUA&profile=global-search&rank=68&query=Faculty+member+of+biology+%7Ccategory%3A%22%24%2B%2B+Staff+%24%2B%2B%22', 'https://ntu.ac.uk/__search/s/redirect?collection=ntu~sp-global&url=https%3A%2F%2Fwww.ntu.ac.uk%2Fstaff-profiles%2Fscience-technology%2Fivan-campeotto&auth=%2BXC7D%2B9Z3vwJpGncX3PsZg&profile=global-search&rank=69&query=Faculty+member+of+biology+%7Ccategory%3A%22%24%2B%2B+Staff+%24%2B%2B%22', 'https://ntu.ac.uk/__search/s/redirect?collection=ntu~sp-global&url=https%3A%2F%2Fwww.ntu.ac.uk%2Fstaff-profiles%2Fbusiness%2Fjamie-rundle&auth=IA%2FMTHLIKdi8gS3NqUJPoA&profile=global-search&rank=70&query=Faculty+member+of+biology+%7Ccategory%3A%22%24%2B%2B+Staff+%24%2B%2B%22', 'https://ntu.ac.uk/__search/s/redirect?collection=ntu~sp-global&url=https%3A%2F%2Fwww.ntu.ac.uk%2Fstaff-profiles%2Fscience-technology%2Felisa-tonoli&auth=h6gzhbQI9HuE%2FWJTqDBuEQ&profile=global-search&rank=71&query=Faculty+member+of+biology+%7Ccategory%3A%22%24%2B%2B+Staff+%24%2B%2B%22', 'https://ntu.ac.uk/__search/s/redirect?collection=ntu~sp-global&url=https%3A%2F%2Fwww.ntu.ac.uk%2Fstaff-profiles%2Fbusiness%2Fdavid-smith&auth=XF2cKun4df5DAzbF0njnfA&profile=global-search&rank=72&query=Faculty+member+of+biology+%7Ccategory%3A%22%24%2B%2B+Staff+%24%2B%2B%22', 'https://ntu.ac.uk/__search/s/redirect?collection=ntu~sp-global&url=https%3A%2F%2Fwww.ntu.ac.uk%2Fstaff-profiles%2Feducation%2Fverity-aiken&auth=lT%2F%2FoaVDeQ%2F2m1ufWCRNoA&profile=global-search&rank=73&query=Faculty+member+of+biology+%7Ccategory%3A%22%24%2B%2B+Staff+%24%2B%2B%22', 'https://ntu.ac.uk/__search/s/redirect?collection=ntu~sp-global&url=https%3A%2F%2Fwww.ntu.ac.uk%2Fstaff-profiles%2Fscience-technology%2Fjack-leo&auth=QPblENt6eFifjkuLero79Q&profile=global-search&rank=74&query=Faculty+member+of+biology+%7Ccategory%3A%22%24%2B%2B+Staff+%24%2B%2B%22', 'https://ntu.ac.uk/__search/s/redirect?collection=ntu~sp-global&url=https%3A%2F%2Fwww.ntu.ac.uk%2Fstaff-profiles%2Farchived%2Folatz-lopez-fernandez&auth=8vEZn9lJWCD%2B59ANs6F4KQ&profile=global-search&rank=75&query=Faculty+member+of+biology+%7Ccategory%3A%22%24%2B%2B+Staff+%24%2B%2B%22', 'https://ntu.ac.uk/__search/s/redirect?collection=ntu~sp-global&url=https%3A%2F%2Fwww.ntu.ac.uk%2Fstaff-profiles%2Fcadq%2Fsandy-cope&auth=Hj8XaLx0e4w1KFcDArxpKQ&profile=global-search&rank=76&query=Faculty+member+of+biology+%7Ccategory%3A%22%24%2B%2B+Staff+%24%2B%2B%22', 'https://ntu.ac.uk/__search/s/redirect?collection=ntu~sp-global&url=https%3A%2F%2Fwww.ntu.ac.uk%2Fstaff-profiles%2Fsocial-sciences%2Fmatt-henn&auth=%2Fje4qvaFwbgGz6RgPDJeSg&profile=global-search&rank=77&query=Faculty+member+of+biology+%7Ccategory%3A%22%24%2B%2B+Staff+%24%2B%2B%22', 'https://ntu.ac.uk/__search/s/redirect?collection=ntu~sp-global&url=https%3A%2F%2Fwww.ntu.ac.uk%2Fstaff-profiles%2Fsocial-sciences%2Fian-jones&auth=KD2Xef3rS%2BkakhXxnTxgmQ&profile=global-search&rank=78&query=Faculty+member+of+biology+%7Ccategory%3A%22%24%2B%2B+Staff+%24%2B%2B%22', 'https://ntu.ac.uk/__search/s/redirect?collection=ntu~sp-global&url=https%3A%2F%2Fwww.ntu.ac.uk%2Fstaff-profiles%2Flaw%2Fliz-curran&auth=EZV70QLePDKPlE69G0DJmQ&profile=global-search&rank=79&query=Faculty+member+of+biology+%7Ccategory%3A%22%24%2B%2B+Staff+%24%2B%2B%22', 'https://ntu.ac.uk/__search/s/redirect?collection=ntu~sp-global&url=https%3A%2F%2Fwww.ntu.ac.uk%2Fstaff-profiles%2Fsocial-sciences%2Fmike-marriott&auth=HHI6uDM9JIxXFFdPGDstdw&profile=global-search&rank=80&query=Faculty+member+of+biology+%7Ccategory%3A%22%24%2B%2B+Staff+%24%2B%2B%22', 'https://ntu.ac.uk/__search/s/redirect?collection=ntu~sp-global&url=https%3A%2F%2Fwww.ntu.ac.uk%2Fstaff-profiles%2Fscience-technology%2Farchontis-giannakidis&auth=n%2FQEKYTh9w9BZLHgIFWc%2Bw&profile=global-search&rank=81&query=Faculty+member+of+biology+%7Ccategory%3A%22%24%2B%2B+Staff+%24%2B%2B%22', 'https://ntu.ac.uk/__search/s/redirect?collection=ntu~sp-global&url=https%3A%2F%2Fwww.ntu.ac.uk%2Fstaff-profiles%2Fbusiness%2Fadrian-castell&auth=pyC%2BCvSLUBbyOZTtyFMCog&profile=global-search&rank=82&query=Faculty+member+of+biology+%7Ccategory%3A%22%24%2B%2B+Staff+%24%2B%2B%22', 'https://ntu.ac.uk/__search/s/redirect?collection=ntu~sp-global&url=https%3A%2F%2Fwww.ntu.ac.uk%2Fstaff-profiles%2Fscience-technology%2Fdaniel-dandrea&auth=2BQlUsEkgxPSAmXG%2BwB%2BMg&profile=global-search&rank=83&query=Faculty+member+of+biology+%7Ccategory%3A%22%24%2B%2B+Staff+%24%2B%2B%22', 'https://ntu.ac.uk/__search/s/redirect?collection=ntu~sp-global&url=https%3A%2F%2Fwww.ntu.ac.uk%2Fstaff-profiles%2Fanimal-rural-environmental-sciences%2Fashley-maxey&auth=u6KYkyldvSINUqT6GP8Urg&profile=global-search&rank=84&query=Faculty+member+of+biology+%7Ccategory%3A%22%24%2B%2B+Staff+%24%2B%2B%22', 'https://ntu.ac.uk/__search/s/redirect?collection=ntu~sp-global&url=https%3A%2F%2Fwww.ntu.ac.uk%2Fstaff-profiles%2Fscience-technology%2Fali-safaa-sadiq-al-shakarchi&auth=TDOw1dtTi9ngDZ7pREdSBw&profile=global-search&rank=85&query=Faculty+member+of+biology+%7Ccategory%3A%22%24%2B%2B+Staff+%24%2B%2B%22', 'https://ntu.ac.uk/__search/s/redirect?collection=ntu~sp-global&url=https%3A%2F%2Fwww.ntu.ac.uk%2Fstaff-profiles%2Fscience-technology%2Fchris-lloyd-mills&auth=Ii9EZ1I0zJbr59%2BeB6xILQ&profile=global-search&rank=86&query=Faculty+member+of+biology+%7Ccategory%3A%22%24%2B%2B+Staff+%24%2B%2B%22', 'https://ntu.ac.uk/__search/s/redirect?collection=ntu~sp-global&url=https%3A%2F%2Fwww.ntu.ac.uk%2Fstaff-profiles%2Fscience-technology%2Fbenjamin-dickins&auth=MAM%2F047uiIumuZaXz%2B8ATw&profile=global-search&rank=87&query=Faculty+member+of+biology+%7Ccategory%3A%22%24%2B%2B+Staff+%24%2B%2B%22', 'https://ntu.ac.uk/__search/s/redirect?collection=ntu~sp-global&url=https%3A%2F%2Fwww.ntu.ac.uk%2Fstaff-profiles%2Fscience-technology%2Fselman-ali&auth=YylNEmHpdvZp%2F1t2H1YMWg&profile=global-search&rank=88&query=Faculty+member+of+biology+%7Ccategory%3A%22%24%2B%2B+Staff+%24%2B%2B%22', 'https://ntu.ac.uk/__search/s/redirect?collection=ntu~sp-global&url=https%3A%2F%2Fwww.ntu.ac.uk%2Fstaff-profiles%2Fscience-technology%2Fruth-boat&auth=cvEjA8vKnkR2KwK3BQzSDA&profile=global-search&rank=89&query=Faculty+member+of+biology+%7Ccategory%3A%22%24%2B%2B+Staff+%24%2B%2B%22', 'https://ntu.ac.uk/__search/s/redirect?collection=ntu~sp-global&url=https%3A%2F%2Fwww.ntu.ac.uk%2Fstaff-profiles%2Fscience-technology%2Fsamantha-mclean&auth=hBRR98dofflecguuDA7cTQ&profile=global-search&rank=90&query=Faculty+member+of+biology+%7Ccategory%3A%22%24%2B%2B+Staff+%24%2B%2B%22', 'https://ntu.ac.uk/__search/s/redirect?collection=ntu~sp-global&url=https%3A%2F%2Fwww.ntu.ac.uk%2Fstaff-profiles%2Fscience-technology%2Ftawfik-al-hadhrami&auth=%2BQoJk1bLAZ8OqX0zZU5y1w&profile=global-search&rank=91&query=Faculty+member+of+biology+%7Ccategory%3A%22%24%2B%2B+Staff+%24%2B%2B%22', 'https://ntu.ac.uk/__search/s/redirect?collection=ntu~sp-global&url=https%3A%2F%2Fwww.ntu.ac.uk%2Fstaff-profiles%2Fsocial-sciences%2Fsimon-cauvain&auth=U0wND7vn9FE3NhMOBCUbHQ&profile=global-search&rank=92&query=Faculty+member+of+biology+%7Ccategory%3A%22%24%2B%2B+Staff+%24%2B%2B%22', 'https://ntu.ac.uk/__search/s/redirect?collection=ntu~sp-global&url=https%3A%2F%2Fwww.ntu.ac.uk%2Fstaff-profiles%2Fsocial-sciences%2Fdaria-kuss&auth=7PYPthWAofsZKFFDyKC44Q&profile=global-search&rank=93&query=Faculty+member+of+biology+%7Ccategory%3A%22%24%2B%2B+Staff+%24%2B%2B%22', 'https://ntu.ac.uk/__search/s/redirect?collection=ntu~sp-global&url=https%3A%2F%2Fwww.ntu.ac.uk%2Fstaff-profiles%2Fanimal-rural-environmental-sciences%2Fchris-royle&auth=tmWYqVb6Taxf3xLzDfQrdA&profile=global-search&rank=94&query=Faculty+member+of+biology+%7Ccategory%3A%22%24%2B%2B+Staff+%24%2B%2B%22', 'https://ntu.ac.uk/__search/s/redirect?collection=ntu~sp-global&url=https%3A%2F%2Fwww.ntu.ac.uk%2Fstaff-profiles%2Fart-design%2Fmax-kandhola&auth=lJD%2BbmO%2FW6bopOaURAa2KA&profile=global-search&rank=95&query=Faculty+member+of+biology+%7Ccategory%3A%22%24%2B%2B+Staff+%24%2B%2B%22', 'https://ntu.ac.uk/__search/s/redirect?collection=ntu~sp-global&url=https%3A%2F%2Fwww.ntu.ac.uk%2Fstaff-profiles%2Fscience-technology%2Fcleveland-barnett&auth=cTW%2BHBlRXzp4uEH8JJs%2BYg&profile=global-search&rank=96&query=Faculty+member+of+biology+%7Ccategory%3A%22%24%2B%2B+Staff+%24%2B%2B%22', 'https://ntu.ac.uk/__search/s/redirect?collection=ntu~sp-global&url=https%3A%2F%2Fwww.ntu.ac.uk%2Fstaff-profiles%2Fscience-technology%2Fjoao-filipe-ferreira&auth=67gwnM9R59WBAYCW28yJ3w&profile=global-search&rank=97&query=Faculty+member+of+biology+%7Ccategory%3A%22%24%2B%2B+Staff+%24%2B%2B%22', 'https://ntu.ac.uk/__search/s/redirect?collection=ntu~sp-global&url=https%3A%2F%2Fwww.ntu.ac.uk%2Fstaff-profiles%2Feducation%2Flauran-doak&auth=NO2ZW2weeGzyvxqg6q0PSg&profile=global-search&rank=98&query=Faculty+member+of+biology+%7Ccategory%3A%22%24%2B%2B+Staff+%24%2B%2B%22', 'https://ntu.ac.uk/__search/s/redirect?collection=ntu~sp-global&url=https%3A%2F%2Fwww.ntu.ac.uk%2Fstaff-profiles%2Fbusiness%2Fmarco-furlotti&auth=lTjrMid7qHTSXhtwdNA82w&profile=global-search&rank=99&query=Faculty+member+of+biology+%7Ccategory%3A%22%24%2B%2B+Staff+%24%2B%2B%22', 'https://ntu.ac.uk/__search/s/redirect?collection=ntu~sp-global&url=https%3A%2F%2Fwww.ntu.ac.uk%2Fstaff-profiles%2Fanimal-rural-environmental-sciences%2Fmike-rosenbaum&auth=N7JHcGQhuecIqJDpiujAWg&profile=global-search&rank=100&query=Faculty+member+of+biology+%7Ccategory%3A%22%24%2B%2B+Staff+%24%2B%2B%22', 'https://ntu.ac.uk/__search/s/redirect?collection=ntu~sp-global&url=https%3A%2F%2Fwww.ntu.ac.uk%2Fstaff-profiles%2Fbusiness%2Fhelen-shipton&auth=wtrxAVr%2BM5VTPHtV%2BFcEYQ&profile=global-search&rank=101&query=Faculty+member+of+biology+%7Ccategory%3A%22%24%2B%2B+Staff+%24%2B%2B%22', 'https://ntu.ac.uk/__search/s/redirect?collection=ntu~sp-global&url=https%3A%2F%2Fwww.ntu.ac.uk%2Fstaff-profiles%2Farts-humanities%2Femanuela-cervato&auth=bYGtGKkKomhXcB3hr8PZRA&profile=global-search&rank=102&query=Faculty+member+of+biology+%7Ccategory%3A%22%24%2B%2B+Staff+%24%2B%2B%22', 'https://ntu.ac.uk/__search/s/redirect?collection=ntu~sp-global&url=https%3A%2F%2Fwww.ntu.ac.uk%2Fstaff-profiles%2Fscience-technology%2Fpeter-redfern&auth=PDI4V5HXW2HvRyZB%2FMeK%2BA&profile=global-search&rank=103&query=Faculty+member+of+biology+%7Ccategory%3A%22%24%2B%2B+Staff+%24%2B%2B%22', 'https://ntu.ac.uk/__search/s/redirect?collection=ntu~sp-global&url=https%3A%2F%2Fwww.ntu.ac.uk%2Fstaff-profiles%2Fscience-technology%2Fmaria-rosa-domingo-sananes&auth=uAE4RLxahlx4oea7f0XWMQ&profile=global-search&rank=104&query=Faculty+member+of+biology+%7Ccategory%3A%22%24%2B%2B+Staff+%24%2B%2B%22', 'https://ntu.ac.uk/__search/s/redirect?collection=ntu~sp-global&url=https%3A%2F%2Fwww.ntu.ac.uk%2Fstaff-profiles%2Fscience-technology%2Frachel-stubbington&auth=5x%2BIJNatVcu6jTkxWyyGLA&profile=global-search&rank=105&query=Faculty+member+of+biology+%7Ccategory%3A%22%24%2B%2B+Staff+%24%2B%2B%22', 'https://ntu.ac.uk/__search/s/redirect?collection=ntu~sp-global&url=https%3A%2F%2Fwww.ntu.ac.uk%2Fstaff-profiles%2Fanimal-rural-environmental-sciences%2Fantonio-uzal&auth=NjQKrxaCdhHVMWAXOPyKAg&profile=global-search&rank=106&query=Faculty+member+of+biology+%7Ccategory%3A%22%24%2B%2B+Staff+%24%2B%2B%22', 'https://ntu.ac.uk/__search/s/redirect?collection=ntu~sp-global&url=https%3A%2F%2Fwww.ntu.ac.uk%2Fstaff-profiles%2Fscience-technology%2Fnaqash-masood&auth=Tu4NiqbKvTbxxdQwEcQA5w&profile=global-search&rank=107&query=Faculty+member+of+biology+%7Ccategory%3A%22%24%2B%2B+Staff+%24%2B%2B%22', 'https://ntu.ac.uk/__search/s/redirect?collection=ntu~sp-global&url=https%3A%2F%2Fwww.ntu.ac.uk%2Fstaff-profiles%2Fsocial-sciences%2Fthomas-caygill&auth=TWlAMvOB2joPeVJksOKNGA&profile=global-search&rank=108&query=Faculty+member+of+biology+%7Ccategory%3A%22%24%2B%2B+Staff+%24%2B%2B%22', 'https://ntu.ac.uk/__search/s/redirect?collection=ntu~sp-global&url=https%3A%2F%2Fwww.ntu.ac.uk%2Fstaff-profiles%2Fsocial-sciences%2Frusijaspal&auth=obauOSXg%2FV5kEbW3d%2F0tDQ&profile=global-search&rank=109&query=Faculty+member+of+biology+%7Ccategory%3A%22%24%2B%2B+Staff+%24%2B%2B%22', 'https://ntu.ac.uk/__search/s/redirect?collection=ntu~sp-global&url=https%3A%2F%2Fwww.ntu.ac.uk%2Fstaff-profiles%2Fanimal-rural-environmental-sciences%2Fchungui-lu&auth=B25wH%2F2AmDV2OnxZirjcpg&profile=global-search&rank=110&query=Faculty+member+of+biology+%7Ccategory%3A%22%24%2B%2B+Staff+%24%2B%2B%22', 'https://ntu.ac.uk/__search/s/redirect?collection=ntu~sp-global&url=https%3A%2F%2Fwww.ntu.ac.uk%2Fstaff-profiles%2Fscience-technology%2Famanda-miles&auth=BXtqUUStJEqGP1s1eQqe4A&profile=global-search&rank=111&query=Faculty+member+of+biology+%7Ccategory%3A%22%24%2B%2B+Staff+%24%2B%2B%22', 'https://ntu.ac.uk/__search/s/redirect?collection=ntu~sp-global&url=https%3A%2F%2Fwww.ntu.ac.uk%2Fstaff-profiles%2Fscience-technology%2Faldo-gutierrez&auth=QWLGkYqr3wmPpQ%2Fd7F%2FOqg&profile=global-search&rank=112&query=Faculty+member+of+biology+%7Ccategory%3A%22%24%2B%2B+Staff+%24%2B%2B%22', 'https://ntu.ac.uk/__search/s/redirect?collection=ntu~sp-global&url=https%3A%2F%2Fwww.ntu.ac.uk%2Fstaff-profiles%2Fphd-staff%2Fsharon-monteith&auth=u3spt8bhcaAVNTzogWYjPw&profile=global-search&rank=113&query=Faculty+member+of+biology+%7Ccategory%3A%22%24%2B%2B+Staff+%24%2B%2B%22', 'https://ntu.ac.uk/__search/s/redirect?collection=ntu~sp-global&url=https%3A%2F%2Fwww.ntu.ac.uk%2Fstaff-profiles%2Fphd-staff%2Fpaul-evans&auth=hGqyrY%2FFKmCRrX4Q1eIU6g&profile=global-search&rank=114&query=Faculty+member+of+biology+%7Ccategory%3A%22%24%2B%2B+Staff+%24%2B%2B%22', 'https://ntu.ac.uk/__search/s/redirect?collection=ntu~sp-global&url=https%3A%2F%2Fwww.ntu.ac.uk%2Fstaff-profiles%2Fscience-technology%2Fdaniele-magistro&auth=6Rkj8VcQXB1jddRO%2FS299g&profile=global-search&rank=115&query=Faculty+member+of+biology+%7Ccategory%3A%22%24%2B%2B+Staff+%24%2B%2B%22', 'https://ntu.ac.uk/__search/s/redirect?collection=ntu~sp-global&url=https%3A%2F%2Fwww.ntu.ac.uk%2Fstaff-profiles%2Fscience-technology%2Fyasser-el-sherbiny&auth=LSRymjfkwwawTYkQfNLAIA&profile=global-search&rank=116&query=Faculty+member+of+biology+%7Ccategory%3A%22%24%2B%2B+Staff+%24%2B%2B%22', 'https://ntu.ac.uk/__search/s/redirect?collection=ntu~sp-global&url=https%3A%2F%2Fwww.ntu.ac.uk%2Fstaff-profiles%2Fscience-technology%2Fjonathan-crofts&auth=1AnahxxoCp2yJ60W2tXXUw&profile=global-search&rank=117&query=Faculty+member+of+biology+%7Ccategory%3A%22%24%2B%2B+Staff+%24%2B%2B%22', 'https://ntu.ac.uk/__search/s/redirect?collection=ntu~sp-global&url=https%3A%2F%2Fwww.ntu.ac.uk%2Fstaff-profiles%2Fscience-technology%2Fian-shuttleworth&auth=i%2F1KbmwcA3Hy%2FlW7oMctvQ&profile=global-search&rank=118&query=Faculty+member+of+biology+%7Ccategory%3A%22%24%2B%2B+Staff+%24%2B%2B%22', 'https://ntu.ac.uk/__search/s/redirect?collection=ntu~sp-global&url=https%3A%2F%2Fwww.ntu.ac.uk%2Fstaff-profiles%2Fart-design%2Fsean-myatt&auth=F5Z7vwti7zaJG6cA6rFYYw&profile=global-search&rank=119&query=Faculty+member+of+biology+%7Ccategory%3A%22%24%2B%2B+Staff+%24%2B%2B%22', 'https://ntu.ac.uk/__search/s/redirect?collection=ntu~sp-global&url=https%3A%2F%2Fwww.ntu.ac.uk%2Fstaff-profiles%2Fscience-technology%2Frobert-rees&auth=lm%2FJaMJvkLSfUlDzppMYIQ&profile=global-search&rank=120&query=Faculty+member+of+biology+%7Ccategory%3A%22%24%2B%2B+Staff+%24%2B%2B%22', 'https://ntu.ac.uk/__search/s/redirect?collection=ntu~sp-global&url=https%3A%2F%2Fwww.ntu.ac.uk%2Fstaff-profiles%2Fscience-technology%2Faslihan-ugun-klusek&auth=QWW0s6mibKj5oh4wHZ%2BHOg&profile=global-search&rank=121&query=Faculty+member+of+biology+%7Ccategory%3A%22%24%2B%2B+Staff+%24%2B%2B%22', 'https://ntu.ac.uk/__search/s/redirect?collection=ntu~sp-global&url=https%3A%2F%2Fwww.ntu.ac.uk%2Fstaff-profiles%2Fscience-technology%2Flivia-santos&auth=iWy0hBntMHXYz6TM%2FJLjXw&profile=global-search&rank=122&query=Faculty+member+of+biology+%7Ccategory%3A%22%24%2B%2B+Staff+%24%2B%2B%22', 'https://ntu.ac.uk/__search/s/redirect?collection=ntu~sp-global&url=https%3A%2F%2Fwww.ntu.ac.uk%2Fstaff-profiles%2Fscience-technology%2Fcarl-nelson&auth=Ax5fH48f0qxC9t6ZDjd7Gg&profile=global-search&rank=123&query=Faculty+member+of+biology+%7Ccategory%3A%22%24%2B%2B+Staff+%24%2B%2B%22', 'https://ntu.ac.uk/__search/s/redirect?collection=ntu~sp-global&url=https%3A%2F%2Fwww.ntu.ac.uk%2Fstaff-profiles%2Fscience-technology%2Fchris-saward&auth=hDNHStP9brXZtM2KuvGOkw&profile=global-search&rank=124&query=Faculty+member+of+biology+%7Ccategory%3A%22%24%2B%2B+Staff+%24%2B%2B%22', 'https://ntu.ac.uk/__search/s/redirect?collection=ntu~sp-global&url=https%3A%2F%2Fwww.ntu.ac.uk%2Fstaff-profiles%2Fscience-technology%2Fcarlos-abrahams&auth=knYcut%2FRGMWhKfqWnFOggg&profile=global-search&rank=125&query=Faculty+member+of+biology+%7Ccategory%3A%22%24%2B%2B+Staff+%24%2B%2B%22', 'https://ntu.ac.uk/__search/s/redirect?collection=ntu~sp-global&url=https%3A%2F%2Fwww.ntu.ac.uk%2Fstaff-profiles%2Fscience-technology%2Flucas-goehring&auth=uxLQyNmNqEj4kfLcJK0j8w&profile=global-search&rank=126&query=Faculty+member+of+biology+%7Ccategory%3A%22%24%2B%2B+Staff+%24%2B%2B%22', 'https://ntu.ac.uk/__search/s/redirect?collection=ntu~sp-global&url=https%3A%2F%2Fwww.ntu.ac.uk%2Fstaff-profiles%2Fscience-technology%2Fzoheir-ezziane&auth=83r%2BdjBKI%2Fus0B9Qjwai7w&profile=global-search&rank=127&query=Faculty+member+of+biology+%7Ccategory%3A%22%24%2B%2B+Staff+%24%2B%2B%22', 'https://ntu.ac.uk/__search/s/redirect?collection=ntu~sp-global&url=https%3A%2F%2Fwww.ntu.ac.uk%2Fstaff-profiles%2Fbusiness%2Fpetra-molthan-hill&auth=LQRMu%2FvVsJR2IqA3odTgiQ&profile=global-search&rank=128&query=Faculty+member+of+biology+%7Ccategory%3A%22%24%2B%2B+Staff+%24%2B%2B%22', 'https://ntu.ac.uk/__search/s/redirect?collection=ntu~sp-global&url=https%3A%2F%2Fwww.ntu.ac.uk%2Fstaff-profiles%2Fsocial-sciences%2Flinda-gibson&auth=ly1uARO%2BvB%2BnjYwsoGWniw&profile=global-search&rank=129&query=Faculty+member+of+biology+%7Ccategory%3A%22%24%2B%2B+Staff+%24%2B%2B%22', 'https://ntu.ac.uk/__search/s/redirect?collection=ntu~sp-global&url=https%3A%2F%2Fwww.ntu.ac.uk%2Fstaff-profiles%2Farchitecture-design-built-environment%2Fpaul-collins&auth=RlnnOs5lxPXJTWxwD97%2BWg&profile=global-search&rank=130&query=Faculty+member+of+biology+%7Ccategory%3A%22%24%2B%2B+Staff+%24%2B%2B%22', 'https://ntu.ac.uk/__search/s/redirect?collection=ntu~sp-global&url=https%3A%2F%2Fwww.ntu.ac.uk%2Fstaff-profiles%2Fscience-technology%2Fchris-terrell-nield&auth=zJdN5aYLfT%2BOixgvNbcg0w&profile=global-search&rank=131&query=Faculty+member+of+biology+%7Ccategory%3A%22%24%2B%2B+Staff+%24%2B%2B%22', 'https://ntu.ac.uk/__search/s/redirect?collection=ntu~sp-global&url=https%3A%2F%2Fwww.ntu.ac.uk%2Fstaff-profiles%2Fscience-technology%2Fphilip-breedon&auth=dV4abDPccLfUgqP8Indemg&profile=global-search&rank=132&query=Faculty+member+of+biology+%7Ccategory%3A%22%24%2B%2B+Staff+%24%2B%2B%22', 'https://ntu.ac.uk/__search/s/redirect?collection=ntu~sp-global&url=https%3A%2F%2Fwww.ntu.ac.uk%2Fstaff-profiles%2Fsocial-sciences%2Fverusca-calabria&auth=RAPtnYdppGCCyF8MPxTlsg&profile=global-search&rank=133&query=Faculty+member+of+biology+%7Ccategory%3A%22%24%2B%2B+Staff+%24%2B%2B%22', 'https://ntu.ac.uk/__search/s/redirect?collection=ntu~sp-global&url=https%3A%2F%2Fwww.ntu.ac.uk%2Fstaff-profiles%2Fsocial-sciences%2Fchristopher-young&auth=iwqiMnVMPKfb2JHRWayfkw&profile=global-search&rank=134&query=Faculty+member+of+biology+%7Ccategory%3A%22%24%2B%2B+Staff+%24%2B%2B%22', 'https://ntu.ac.uk/__search/s/redirect?collection=ntu~sp-global&url=https%3A%2F%2Fwww.ntu.ac.uk%2Fstaff-profiles%2Fscience-technology%2Ferika-whiteford&auth=qnCkvGNDDd8AqCXrEbC6iw&profile=global-search&rank=135&query=Faculty+member+of+biology+%7Ccategory%3A%22%24%2B%2B+Staff+%24%2B%2B%22', 'https://ntu.ac.uk/__search/s/redirect?collection=ntu~sp-global&url=https%3A%2F%2Fwww.ntu.ac.uk%2Fstaff-profiles%2Fbusiness%2Fjeremy-cheah&auth=FTlYA0kr2v9DNwwP%2FVhunA&profile=global-search&rank=136&query=Faculty+member+of+biology+%7Ccategory%3A%22%24%2B%2B+Staff+%24%2B%2B%22', 'https://ntu.ac.uk/__search/s/redirect?collection=ntu~sp-global&url=https%3A%2F%2Fwww.ntu.ac.uk%2Fstaff-profiles%2Fbusiness%2Fprofessor-james-devlin&auth=OsDjYOnVQD3t2PN0XqaP7w&profile=global-search&rank=137&query=Faculty+member+of+biology+%7Ccategory%3A%22%24%2B%2B+Staff+%24%2B%2B%22', 'https://ntu.ac.uk/__search/s/redirect?collection=ntu~sp-global&url=https%3A%2F%2Fwww.ntu.ac.uk%2Fstaff-profiles%2Fsocial-sciences%2Fjamie-whitehouse&auth=RbgP8jT5x%2F5i54rRLLCSxw&profile=global-search&rank=138&query=Faculty+member+of+biology+%7Ccategory%3A%22%24%2B%2B+Staff+%24%2B%2B%22', 'https://ntu.ac.uk/__search/s/redirect?collection=ntu~sp-global&url=https%3A%2F%2Fwww.ntu.ac.uk%2Fstaff-profiles%2Fscience-technology%2Fcristina-montiel-duarte&auth=gLVmot4DD%2Fu5iHPAIdE65Q&profile=global-search&rank=139&query=Faculty+member+of+biology+%7Ccategory%3A%22%24%2B%2B+Staff+%24%2B%2B%22', 'https://ntu.ac.uk/__search/s/redirect?collection=ntu~sp-global&url=https%3A%2F%2Fwww.ntu.ac.uk%2Fstaff-profiles%2Fscience-technology%2Fjohn-hunt&auth=EUJ1x6MIi8sxasN3g10Aug&profile=global-search&rank=140&query=Faculty+member+of+biology+%7Ccategory%3A%22%24%2B%2B+Staff+%24%2B%2B%22', 'https://ntu.ac.uk/__search/s/redirect?collection=ntu~sp-global&url=https%3A%2F%2Fwww.ntu.ac.uk%2Fstaff-profiles%2Farchitecture-design-built-environment%2Famrit-sagoo&auth=B2WkiC1LYamkqDBWRW%2BsYA&profile=global-search&rank=141&query=Faculty+member+of+biology+%7Ccategory%3A%22%24%2B%2B+Staff+%24%2B%2B%22', 'https://ntu.ac.uk/__search/s/redirect?collection=ntu~sp-global&url=https%3A%2F%2Fwww.ntu.ac.uk%2Fstaff-profiles%2Fscience-technology%2Fdavid-boocock&auth=Xi%2BkdMpDR1EfdY9EEyDbmg&profile=global-search&rank=142&query=Faculty+member+of+biology+%7Ccategory%3A%22%24%2B%2B+Staff+%24%2B%2B%22', 'https://ntu.ac.uk/__search/s/redirect?collection=ntu~sp-global&url=https%3A%2F%2Fwww.ntu.ac.uk%2Fstaff-profiles%2Fscience-technology%2Flesley-hoyles&auth=7sfeFzF0zWK8tiD%2B%2FFZVAg&profile=global-search&rank=143&query=Faculty+member+of+biology+%7Ccategory%3A%22%24%2B%2B+Staff+%24%2B%2B%22', 'https://ntu.ac.uk/__search/s/redirect?collection=ntu~sp-global&url=https%3A%2F%2Fwww.ntu.ac.uk%2Fstaff-profiles%2Fsocial-sciences%2Fcarrie-paechter&auth=Jd4Lm6Tp%2BuSEKlRlUAZdww&profile=global-search&rank=144&query=Faculty+member+of+biology+%7Ccategory%3A%22%24%2B%2B+Staff+%24%2B%2B%22', 'https://ntu.ac.uk/__search/s/redirect?collection=ntu~sp-global&url=https%3A%2F%2Fwww.ntu.ac.uk%2Fstaff-profiles%2Fanimal-rural-environmental-sciences%2Fashraf-alkhtib&auth=ym7pVS2LzH98fTz1Ajj1Hw&profile=global-search&rank=145&query=Faculty+member+of+biology+%7Ccategory%3A%22%24%2B%2B+Staff+%24%2B%2B%22', 'https://ntu.ac.uk/__search/s/redirect?collection=ntu~sp-global&url=https%3A%2F%2Fwww.ntu.ac.uk%2Fstaff-profiles%2Fscience-technology%2Fkarin-garrie&auth=pPNrBu%2FW5JmFVIQ0%2FHVROg&profile=global-search&rank=146&query=Faculty+member+of+biology+%7Ccategory%3A%22%24%2B%2B+Staff+%24%2B%2B%22', 'https://ntu.ac.uk/__search/s/redirect?collection=ntu~sp-global&url=https%3A%2F%2Fwww.ntu.ac.uk%2Fstaff-profiles%2Fanimal-rural-environmental-sciences%2Fdawn-scott&auth=QCoIlYN111Rot%2B8gD6STtQ&profile=global-search&rank=147&query=Faculty+member+of+biology+%7Ccategory%3A%22%24%2B%2B+Staff+%24%2B%2B%22', 'https://ntu.ac.uk/__search/s/redirect?collection=ntu~sp-global&url=https%3A%2F%2Fwww.ntu.ac.uk%2Fstaff-profiles%2Fscience-technology%2Fjehan-el-jawhari&auth=jFb3JW5qz3x0PhH13VQYFw&profile=global-search&rank=148&query=Faculty+member+of+biology+%7Ccategory%3A%22%24%2B%2B+Staff+%24%2B%2B%22', 'https://ntu.ac.uk/__search/s/redirect?collection=ntu~sp-global&url=https%3A%2F%2Fwww.ntu.ac.uk%2Fstaff-profiles%2Fanimal-rural-environmental-sciences%2Fdawn-scholey&auth=qnFMhXP%2F1%2BFA1uDfEUxf4A&profile=global-search&rank=149&query=Faculty+member+of+biology+%7Ccategory%3A%22%24%2B%2B+Staff+%24%2B%2B%22', 'https://ntu.ac.uk/__search/s/redirect?collection=ntu~sp-global&url=https%3A%2F%2Fwww.ntu.ac.uk%2Fstaff-profiles%2Fjohn-van-geest-centre%2Fsilvia-ottaviani&auth=x4CSU5Q%2FVu91t8Vj24mgcA&profile=global-search&rank=150&query=Faculty+member+of+biology+%7Ccategory%3A%22%24%2B%2B+Staff+%24%2B%2B%22', 'https://ntu.ac.uk/__search/s/redirect?collection=ntu~sp-global&url=https%3A%2F%2Fwww.ntu.ac.uk%2Fstaff-profiles%2Farchitecture-design-built-environment%2Famrit-sagoo&auth=B2WkiC1LYamkqDBWRW%2BsYA&profile=global-search&rank=141&query=Faculty+member+of+biology+%7Ccategory%3A%22%24%2B%2B+Staff+%24%2B%2B%22', 'https://ntu.ac.uk/__search/s/redirect?collection=ntu~sp-global&url=https%3A%2F%2Fwww.ntu.ac.uk%2Fstaff-profiles%2Fscience-technology%2Fdavid-boocock&auth=Xi%2BkdMpDR1EfdY9EEyDbmg&profile=global-search&rank=142&query=Faculty+member+of+biology+%7Ccategory%3A%22%24%2B%2B+Staff+%24%2B%2B%22', 'https://ntu.ac.uk/__search/s/redirect?collection=ntu~sp-global&url=https%3A%2F%2Fwww.ntu.ac.uk%2Fstaff-profiles%2Fscience-technology%2Flesley-hoyles&auth=7sfeFzF0zWK8tiD%2B%2FFZVAg&profile=global-search&rank=143&query=Faculty+member+of+biology+%7Ccategory%3A%22%24%2B%2B+Staff+%24%2B%2B%22', 'https://ntu.ac.uk/__search/s/redirect?collection=ntu~sp-global&url=https%3A%2F%2Fwww.ntu.ac.uk%2Fstaff-profiles%2Fsocial-sciences%2Fcarrie-paechter&auth=Jd4Lm6Tp%2BuSEKlRlUAZdww&profile=global-search&rank=144&query=Faculty+member+of+biology+%7Ccategory%3A%22%24%2B%2B+Staff+%24%2B%2B%22', 'https://ntu.ac.uk/__search/s/redirect?collection=ntu~sp-global&url=https%3A%2F%2Fwww.ntu.ac.uk%2Fstaff-profiles%2Fanimal-rural-environmental-sciences%2Fashraf-alkhtib&auth=ym7pVS2LzH98fTz1Ajj1Hw&profile=global-search&rank=145&query=Faculty+member+of+biology+%7Ccategory%3A%22%24%2B%2B+Staff+%24%2B%2B%22', 'https://ntu.ac.uk/__search/s/redirect?collection=ntu~sp-global&url=https%3A%2F%2Fwww.ntu.ac.uk%2Fstaff-profiles%2Fscience-technology%2Fkarin-garrie&auth=pPNrBu%2FW5JmFVIQ0%2FHVROg&profile=global-search&rank=146&query=Faculty+member+of+biology+%7Ccategory%3A%22%24%2B%2B+Staff+%24%2B%2B%22', 'https://ntu.ac.uk/__search/s/redirect?collection=ntu~sp-global&url=https%3A%2F%2Fwww.ntu.ac.uk%2Fstaff-profiles%2Fanimal-rural-environmental-sciences%2Fdawn-scott&auth=QCoIlYN111Rot%2B8gD6STtQ&profile=global-search&rank=147&query=Faculty+member+of+biology+%7Ccategory%3A%22%24%2B%2B+Staff+%24%2B%2B%22', 'https://ntu.ac.uk/__search/s/redirect?collection=ntu~sp-global&url=https%3A%2F%2Fwww.ntu.ac.uk%2Fstaff-profiles%2Fscience-technology%2Fjehan-el-jawhari&auth=jFb3JW5qz3x0PhH13VQYFw&profile=global-search&rank=148&query=Faculty+member+of+biology+%7Ccategory%3A%22%24%2B%2B+Staff+%24%2B%2B%22', 'https://ntu.ac.uk/__search/s/redirect?collection=ntu~sp-global&url=https%3A%2F%2Fwww.ntu.ac.uk%2Fstaff-profiles%2Fanimal-rural-environmental-sciences%2Fdawn-scholey&auth=qnFMhXP%2F1%2BFA1uDfEUxf4A&profile=global-search&rank=149&query=Faculty+member+of+biology+%7Ccategory%3A%22%24%2B%2B+Staff+%24%2B%2B%22', 'https://ntu.ac.uk/__search/s/redirect?collection=ntu~sp-global&url=https%3A%2F%2Fwww.ntu.ac.uk%2Fstaff-profiles%2Fjohn-van-geest-centre%2Fsilvia-ottaviani&auth=x4CSU5Q%2FVu91t8Vj24mgcA&profile=global-search&rank=150&query=Faculty+member+of+biology+%7Ccategory%3A%22%24%2B%2B+Staff+%24%2B%2B%22']\n"
     ]
    }
   ],
   "source": [
    "\n",
    "url_list = []\n",
    "\n",
    "all_items_url = driver.find_elements(By.XPATH, value = '//li[@class = \"result clearfix\"]')\n",
    "\n",
    "for i in range(len(all_items_url)):\n",
    "# get link of profile for each prof (item) and go that site\n",
    "\n",
    "    item = driver.find_elements(By.XPATH, value = './/li[@class = \"result clearfix\"]')[i]\n",
    "    links_prof_page = item.find_element(By.XPATH , value = './/h2[@class = \"result-title  skim-bottom\"]//a')\n",
    "    links_prof_page = links_prof_page.get_attribute('href')\n",
    "    url_list.append(links_prof_page)\n",
    "    \n",
    "print(url_list)\n"
   ]
  },
  {
   "cell_type": "code",
   "execution_count": 37,
   "id": "3d9c4caa",
   "metadata": {},
   "outputs": [
    {
     "data": {
      "text/plain": [
       "160"
      ]
     },
     "execution_count": 37,
     "metadata": {},
     "output_type": "execute_result"
    }
   ],
   "source": [
    "len(url_list)"
   ]
  },
  {
   "cell_type": "code",
   "execution_count": 40,
   "id": "a1963a19",
   "metadata": {},
   "outputs": [],
   "source": [
    "# store urls for each member\n",
    "\n",
    "# url_df = pd.DataFrame({'url': url_list})\n",
    "# url_df.to_csv(\"url_df.csv\", index=False)"
   ]
  },
  {
   "cell_type": "markdown",
   "id": "e35ab25f",
   "metadata": {},
   "source": [
    "### click to each link and extract all data"
   ]
  },
  {
   "cell_type": "code",
   "execution_count": 41,
   "id": "3ba7d830",
   "metadata": {},
   "outputs": [
    {
     "name": "stdout",
     "output_type": "stream",
     "text": [
      "How long does it take to scrape the whole webpage? 11722.14339375496 seconds\n"
     ]
    }
   ],
   "source": [
    "\n",
    "data = []\n",
    "\n",
    "for url in url_list:\n",
    "    try:\n",
    "        # In each page of profile,we get name, email, department and research area\n",
    "        driver.get(url)\n",
    "        page_prof = driver.find_elements(By.XPATH , value = '//main[@class = \"main\"]')\n",
    "        \n",
    "        for section in page_prof:\n",
    "            \n",
    "                    try:\n",
    "                        name = section.find_element(By.XPATH , value = \".//h1[@class = 'page-heading skim-top skim-bottom']\").text\n",
    "                    except:\n",
    "                        name = \"Unknown\"\n",
    "                        \n",
    "                    try:\n",
    "                        email = section.find_element(By.XPATH  , value = './/a[@itemprop= \"email\"]').text\n",
    "                    except:\n",
    "                        email = \"Unknown\"\n",
    "\n",
    "                    try:\n",
    "                        department = section.find_element(By.XPATH, value= '//h3[@class = \"skim-top skim-bottom\"]').text\n",
    "                    except:\n",
    "                        department = 'Unknown' \n",
    "\n",
    "                    try:\n",
    "                        research_area = section.find_element(By.XPATH , value = './/div[@class= \"grey-shade key-panel\"]').text\n",
    "                    except:\n",
    "                        research_area = \"Unknown\"\n",
    "\n",
    "                    data.append([name, email, department, research_area])\n",
    "        \n",
    "    \n",
    "    except:\n",
    "        print(\"finished!\")\n",
    "        break\n",
    "\n",
    "print('How long does it take to scrape the whole webpage? {} seconds'.format(time.time() - start_time))\n"
   ]
  },
  {
   "cell_type": "code",
   "execution_count": 42,
   "id": "655202bb",
   "metadata": {},
   "outputs": [
    {
     "data": {
      "text/plain": [
       "159"
      ]
     },
     "execution_count": 42,
     "metadata": {},
     "output_type": "execute_result"
    }
   ],
   "source": [
    "len(data)"
   ]
  },
  {
   "cell_type": "markdown",
   "id": "bea990f6",
   "metadata": {},
   "source": [
    "# Create Pandas Dataframe"
   ]
  },
  {
   "cell_type": "code",
   "execution_count": 44,
   "id": "5b29c3b1",
   "metadata": {},
   "outputs": [
    {
     "data": {
      "text/html": [
       "<div>\n",
       "<style scoped>\n",
       "    .dataframe tbody tr th:only-of-type {\n",
       "        vertical-align: middle;\n",
       "    }\n",
       "\n",
       "    .dataframe tbody tr th {\n",
       "        vertical-align: top;\n",
       "    }\n",
       "\n",
       "    .dataframe thead th {\n",
       "        text-align: right;\n",
       "    }\n",
       "</style>\n",
       "<table border=\"1\" class=\"dataframe\">\n",
       "  <thead>\n",
       "    <tr style=\"text-align: right;\">\n",
       "      <th></th>\n",
       "      <th>Name</th>\n",
       "      <th>email</th>\n",
       "      <th>department</th>\n",
       "      <th>research_area</th>\n",
       "      <th>url</th>\n",
       "    </tr>\n",
       "  </thead>\n",
       "  <tbody>\n",
       "    <tr>\n",
       "      <th>0</th>\n",
       "      <td>Richard McFarland</td>\n",
       "      <td>richard.mcfarland@ntu.ac.uk</td>\n",
       "      <td>School of Social Sciences</td>\n",
       "      <td>Research areas\\nThe underlying objective of my...</td>\n",
       "      <td>https://ntu.ac.uk/__search/s/redirect?collecti...</td>\n",
       "    </tr>\n",
       "    <tr>\n",
       "      <th>1</th>\n",
       "      <td>Adnan Saithna</td>\n",
       "      <td>adnan.saithna@ntu.ac.uk</td>\n",
       "      <td></td>\n",
       "      <td>Research areas\\nDr Saithna has active clinical...</td>\n",
       "      <td>https://ntu.ac.uk/__search/s/redirect?collecti...</td>\n",
       "    </tr>\n",
       "    <tr>\n",
       "      <th>2</th>\n",
       "      <td>Sergio Rutella</td>\n",
       "      <td>sergio.rutella@ntu.ac.uk</td>\n",
       "      <td>School of Science &amp; Technology</td>\n",
       "      <td>Research areas\\nAreas of clinical research int...</td>\n",
       "      <td>https://ntu.ac.uk/__search/s/redirect?collecti...</td>\n",
       "    </tr>\n",
       "    <tr>\n",
       "      <th>3</th>\n",
       "      <td>petros siegkas</td>\n",
       "      <td>petros.siegkas@ntu.ac.uk</td>\n",
       "      <td>School of Science &amp; Technology</td>\n",
       "      <td>Research areas\\nDr Siegkas’ research within th...</td>\n",
       "      <td>https://ntu.ac.uk/__search/s/redirect?collecti...</td>\n",
       "    </tr>\n",
       "    <tr>\n",
       "      <th>4</th>\n",
       "      <td>Dr Seema Patel</td>\n",
       "      <td>seema.patel02@ntu.ac.uk</td>\n",
       "      <td>Nottingham Law School</td>\n",
       "      <td>Research areas\\nSeema has a PhD in sports law,...</td>\n",
       "      <td>https://ntu.ac.uk/__search/s/redirect?collecti...</td>\n",
       "    </tr>\n",
       "    <tr>\n",
       "      <th>...</th>\n",
       "      <td>...</td>\n",
       "      <td>...</td>\n",
       "      <td>...</td>\n",
       "      <td>...</td>\n",
       "      <td>...</td>\n",
       "    </tr>\n",
       "    <tr>\n",
       "      <th>155</th>\n",
       "      <td>NaN</td>\n",
       "      <td>NaN</td>\n",
       "      <td>NaN</td>\n",
       "      <td>NaN</td>\n",
       "      <td>https://ntu.ac.uk/__search/s/redirect?collecti...</td>\n",
       "    </tr>\n",
       "    <tr>\n",
       "      <th>156</th>\n",
       "      <td>NaN</td>\n",
       "      <td>NaN</td>\n",
       "      <td>NaN</td>\n",
       "      <td>NaN</td>\n",
       "      <td>https://ntu.ac.uk/__search/s/redirect?collecti...</td>\n",
       "    </tr>\n",
       "    <tr>\n",
       "      <th>157</th>\n",
       "      <td>NaN</td>\n",
       "      <td>NaN</td>\n",
       "      <td>NaN</td>\n",
       "      <td>NaN</td>\n",
       "      <td>https://ntu.ac.uk/__search/s/redirect?collecti...</td>\n",
       "    </tr>\n",
       "    <tr>\n",
       "      <th>158</th>\n",
       "      <td>NaN</td>\n",
       "      <td>NaN</td>\n",
       "      <td>NaN</td>\n",
       "      <td>NaN</td>\n",
       "      <td>https://ntu.ac.uk/__search/s/redirect?collecti...</td>\n",
       "    </tr>\n",
       "    <tr>\n",
       "      <th>159</th>\n",
       "      <td>NaN</td>\n",
       "      <td>NaN</td>\n",
       "      <td>NaN</td>\n",
       "      <td>NaN</td>\n",
       "      <td>https://ntu.ac.uk/__search/s/redirect?collecti...</td>\n",
       "    </tr>\n",
       "  </tbody>\n",
       "</table>\n",
       "<p>160 rows × 5 columns</p>\n",
       "</div>"
      ],
      "text/plain": [
       "                  Name                        email  \\\n",
       "0    Richard McFarland  richard.mcfarland@ntu.ac.uk   \n",
       "1        Adnan Saithna      adnan.saithna@ntu.ac.uk   \n",
       "2       Sergio Rutella     sergio.rutella@ntu.ac.uk   \n",
       "3       petros siegkas     petros.siegkas@ntu.ac.uk   \n",
       "4       Dr Seema Patel      seema.patel02@ntu.ac.uk   \n",
       "..                 ...                          ...   \n",
       "155                NaN                          NaN   \n",
       "156                NaN                          NaN   \n",
       "157                NaN                          NaN   \n",
       "158                NaN                          NaN   \n",
       "159                NaN                          NaN   \n",
       "\n",
       "                         department  \\\n",
       "0         School of Social Sciences   \n",
       "1                                     \n",
       "2    School of Science & Technology   \n",
       "3    School of Science & Technology   \n",
       "4             Nottingham Law School   \n",
       "..                              ...   \n",
       "155                             NaN   \n",
       "156                             NaN   \n",
       "157                             NaN   \n",
       "158                             NaN   \n",
       "159                             NaN   \n",
       "\n",
       "                                         research_area  \\\n",
       "0    Research areas\\nThe underlying objective of my...   \n",
       "1    Research areas\\nDr Saithna has active clinical...   \n",
       "2    Research areas\\nAreas of clinical research int...   \n",
       "3    Research areas\\nDr Siegkas’ research within th...   \n",
       "4    Research areas\\nSeema has a PhD in sports law,...   \n",
       "..                                                 ...   \n",
       "155                                                NaN   \n",
       "156                                                NaN   \n",
       "157                                                NaN   \n",
       "158                                                NaN   \n",
       "159                                                NaN   \n",
       "\n",
       "                                                   url  \n",
       "0    https://ntu.ac.uk/__search/s/redirect?collecti...  \n",
       "1    https://ntu.ac.uk/__search/s/redirect?collecti...  \n",
       "2    https://ntu.ac.uk/__search/s/redirect?collecti...  \n",
       "3    https://ntu.ac.uk/__search/s/redirect?collecti...  \n",
       "4    https://ntu.ac.uk/__search/s/redirect?collecti...  \n",
       "..                                                 ...  \n",
       "155  https://ntu.ac.uk/__search/s/redirect?collecti...  \n",
       "156  https://ntu.ac.uk/__search/s/redirect?collecti...  \n",
       "157  https://ntu.ac.uk/__search/s/redirect?collecti...  \n",
       "158  https://ntu.ac.uk/__search/s/redirect?collecti...  \n",
       "159  https://ntu.ac.uk/__search/s/redirect?collecti...  \n",
       "\n",
       "[160 rows x 5 columns]"
      ]
     },
     "execution_count": 44,
     "metadata": {},
     "output_type": "execute_result"
    }
   ],
   "source": [
    "\n",
    "df = pd.DataFrame(data, columns = ['Name', 'email', 'department' , 'research_area'])\n",
    "df = df.drop_duplicates()\n",
    "\n",
    "result = pd.concat([df, url_df], axis=1)\n",
    "result"
   ]
  },
  {
   "cell_type": "code",
   "execution_count": 45,
   "id": "6bcc1a99",
   "metadata": {},
   "outputs": [],
   "source": [
    "result.to_csv(\"faculty_member_notthingham.csv\", index=False)"
   ]
  },
  {
   "cell_type": "code",
   "execution_count": null,
   "id": "2f1d91ae",
   "metadata": {},
   "outputs": [],
   "source": []
  }
 ],
 "metadata": {
  "celltoolbar": "Raw Cell Format",
  "kernelspec": {
   "display_name": "Python 3 (ipykernel)",
   "language": "python",
   "name": "python3"
  },
  "language_info": {
   "codemirror_mode": {
    "name": "ipython",
    "version": 3
   },
   "file_extension": ".py",
   "mimetype": "text/x-python",
   "name": "python",
   "nbconvert_exporter": "python",
   "pygments_lexer": "ipython3",
   "version": "3.11.2"
  }
 },
 "nbformat": 4,
 "nbformat_minor": 5
}
