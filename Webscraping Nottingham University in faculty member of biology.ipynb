{
 "cells": [
  {
   "cell_type": "markdown",
   "id": "312c5f89",
   "metadata": {},
   "source": [
    "# Import libraries and modules"
   ]
  },
  {
   "cell_type": "code",
   "execution_count": 1,
   "id": "ac617c6e",
   "metadata": {},
   "outputs": [],
   "source": [
    "# selenium impoet here\n",
    "\n",
    "from selenium import webdriver\n",
    "from selenium.webdriver.common.by import By\n",
    "from selenium.webdriver.chrome.service import Service\n",
    "\n",
    "from selenium.webdriver.support.ui import WebDriverWait\n",
    "from selenium.webdriver.support import expected_conditions as EC\n",
    "from selenium.webdriver.common.keys import Keys\n"
   ]
  },
  {
   "cell_type": "code",
   "execution_count": 2,
   "id": "fcb10c25",
   "metadata": {},
   "outputs": [],
   "source": [
    "# Other import here\n",
    "\n",
    "import pandas as pd\n",
    "import time\n"
   ]
  },
  {
   "cell_type": "markdown",
   "id": "752e067d",
   "metadata": {},
   "source": [
    "# Start and Setup"
   ]
  },
  {
   "cell_type": "code",
   "execution_count": 3,
   "id": "1fe431cf",
   "metadata": {},
   "outputs": [],
   "source": [
    "start_time = time.time()\n",
    "url = \"https://www.ntu.ac.uk/search?query=Faculty%20member%20of%20biology&category=&sort=relevance&category=Staff\"\n",
    "s = Service(\"chromedriver-win32/chromedriver\")\n",
    "\n",
    "driver = webdriver.Chrome(service = s)\n",
    "driver.get(url)\n",
    "time.sleep(3)"
   ]
  },
  {
   "cell_type": "code",
   "execution_count": 4,
   "id": "087c8fb3",
   "metadata": {},
   "outputs": [],
   "source": [
    "# Close cookie banner if present\n",
    "try:\n",
    "    WebDriverWait(driver, 10).until(EC.element_to_be_clickable((By.CLASS_NAME, \"accept-cookies\"))).click()\n",
    "except:\n",
    "    pass"
   ]
  },
  {
   "cell_type": "markdown",
   "id": "e78e2cc4",
   "metadata": {},
   "source": [
    "# Filter staff"
   ]
  },
  {
   "cell_type": "code",
   "execution_count": 5,
   "id": "47809c72",
   "metadata": {},
   "outputs": [],
   "source": [
    "# select staff checkbox members\n",
    "# It should max size of windows in browser\n",
    "\n",
    "# sttaf_chechbox = driver.find_element(By.XPATH, value = '//label[@for = \"Staff\"]')\n",
    "# sttaf_chechbox.click()\n",
    "# time.sleep(5)"
   ]
  },
  {
   "cell_type": "markdown",
   "id": "731cbe17",
   "metadata": {},
   "source": [
    "# Find data"
   ]
  },
  {
   "cell_type": "code",
   "execution_count": 6,
   "id": "32bfef83",
   "metadata": {},
   "outputs": [],
   "source": [
    "all_items = driver.find_elements(By.XPATH, value = '//li[@class = \"result clearfix\"]')\n",
    "\n",
    "for i in range(len(all_items)):\n",
    "    item = driver.find_elements(By.XPATH, value = '//li[@class = \"result clearfix\"]')[i]\n",
    "    links_prof_page = item.find_element(By.XPATH , value = './/h2[@class = \"result-title  skim-bottom\"]//a')\n",
    "    links_prof_page.click()\n",
    "    driver.back()\n",
    "    \n",
    "    "
   ]
  },
  {
   "cell_type": "code",
   "execution_count": 7,
   "id": "a4aa7243",
   "metadata": {},
   "outputs": [],
   "source": [
    "data = []\n",
    "\n",
    "# select all of the items in the page\n",
    "all_items = driver.find_elements(By.XPATH, value = '//li[@class = \"result clearfix\"]')\n",
    "for i in range(len(all_items)):\n",
    "\n",
    "# get link of profile for each prof (item) and go that site\n",
    "    try:\n",
    "        item = driver.find_elements(By.XPATH, value = '//li[@class = \"result clearfix\"]')[i]\n",
    "        links_prof_page = item.find_element(By.XPATH , value = './/h2[@class = \"result-title  skim-bottom\"]//a')\n",
    "        links_prof_page.click()\n",
    "\n",
    "        page_prof = driver.find_elements(By.XPATH , value = '//main[@class = \"main\"]')\n",
    "\n",
    "# In page of profile, get name, email and research area\n",
    "        for section in page_prof:\n",
    "            try:\n",
    "                name = section.find_element(By.XPATH , value = \".//h1[@class='page-heading skim-top skim-bottom']//span[1]\").text\n",
    "            except:\n",
    "                name = \"Unknown\"\n",
    "\n",
    "            try:\n",
    "                email = section.find_element(By.XPATH  , value = './/a[@itemprop= \"email\"]').text\n",
    "            except:\n",
    "                email = \"Unknown\"\n",
    "\n",
    "            try:\n",
    "                research_area = section.find_element(By.XPATH , value = './/div[@class= \"grey-shade key-panel\"]').text\n",
    "            except:\n",
    "                research_area = \"Unkown\"         \n",
    "\n",
    "            data.append([name, email , research_area])\n",
    "\n",
    "# go back to the sttuf page\n",
    "        driver.back()\n",
    "    except:\n",
    "        print(\"break1\")\n",
    "        break\n",
    "\n",
    "#         next_page = driver.find_element(By.XPATH , value = \"\")\n",
    "#         next_page.click()\n"
   ]
  },
  {
   "cell_type": "code",
   "execution_count": 8,
   "id": "ffdd162c",
   "metadata": {},
   "outputs": [
    {
     "data": {
      "text/plain": [
       "[['Mark',\n",
       "  'mark.turner@ntu.ac.uk',\n",
       "  'Research areas\\nResearch in the Turner laboratory focuses upon elucidating molecular causes of disease and in identifying new treatment options. Specific areas of research are as follows:\\nDiet and Diabetes\\nElevated circulating glucose and fatty acid concentrations are known to trigger and exacerbate type 2 diabetes. Dr Turner’s group is interested in identifying those genes whose expression becomes dysregulated during diabetes development, thereby leading to impaired function of key cells and tissues regulating glucose homeostasis. Recent research from the Turner group utilising both Affymetrix microarray and Illumina HiSeq next generation sequencing has enabled us to identify thousands of pancreatic genes whose expression level changes following exposure to high levels of glucose and/or fatty acids. Using a combination of different state-of-the-art non-biased bioinformatic algorithms we have now identified multiple pathways and individual targets that form the basis for current and upcoming outputs and investigations.\\nProtein Adduction, and Protective Action of Reactive Species Scavenging, in Metabolic Diseases\\nProteomic data has recently been acquired from pancreatic beta-cells, skeletal muscle, and serum, detailing advanced glycation and lipidation endproduct modification of proteins exposed to metabolic stress. Crucially, the naturally occurring dipeptide, carnosine, can prevent / reverse many of these damaging modifications, indicating potential therapeutic action of this molecule. However, carnosine turns over quickly in the body, so we are currently screening and characterising a number of slowly-hydrolysable analogs (that act as either carnosinase inhibitors or carnosine mimetics) which could potentially be developed as more powerful treatments for metabolic diseases, including diabetes, obesity, and cancer.\\nIdentification and Manipulation of Novel Targets to Enhance Insulin Secretion\\nExisting diabetes therapies tend to become less effective over time, meaning that there is an urgent and currently unmet clinical need to develop new therapeutic strategies to enhance insulin secretion. Dr Turner’s group has identified a number of intracellular signalling pathways linked to insulin secretion which become dysregulated by glucose and fatty acids. Translational molecular strategies are being pursued that can modify activity of these pathways, with the aim of developing new therapeutic treatments based on these strategies.\\nCurrent opportunities exist to carry out postgraduate research towards an MPhil / PhD in the areas identified above. Further information may be obtained on the NTU Research Degrees website:  https://www.ntu.ac.uk/research/research-degrees-at-ntu\\nResearch Team (2019):\\nMichael Cripps\\nCharlie Lavilla Jr\\nMerell Billacura\\nLaura Lopez-Gonzalez'],\n",
       " ['Unknown',\n",
       "  'richard.mcfarland@ntu.ac.uk',\n",
       "  'Research areas\\nThe underlying objective of my current program of research is to examine the physiological mechanisms that underpin the relationship between primate behaviour, individual fitness, and population survivability, with a particular emphasis on primate social evolution. I am director of the Swebeswebe Primate Research Project and have studied wild primates in South Africa since 2012. While most of my research is observational in nature, I also take experimental and mechanistic modelling approaches to the study of primate environmental physiology and biological evolution.\\nI am a member of the Evolution and Social Interaction Research Group.'],\n",
       " ['petros',\n",
       "  'petros.siegkas@ntu.ac.uk',\n",
       "  \"Research areas\\nDr Siegkas’ research within the field of solid mechanics includes developing and implementing experiment and modelling techniques related to material behavior and impact energy management in biomechanics and aerospace applications. Projects involved close collaboration with both industrial and academic partners of various fields. Current research interests include 3D printing, personalised protective equipment, and engineered meta-materials.\\nPorous-Cellular Materials\\nDr Siegkas’ DPhil was focused on developing experiments and modeling techniques to characterise and model the static and dynamic performance of porous- cellular materials for use as biocompatible bone implants, and applications within the aerospace industry. Experiments involved mechanical testing at various strain rates and included the use of high speed photography, in-situ SEM, X-ray micro-tomography and image analysis.\\nA computational method was developed for virtually generating porous material prototypes and capturing their mechanical behavior at different scales thus providing a tool for virtual prototyping and characterisation, based on application requirements. The foam geometries were generated in Matlab using a method based on Voronoi polyhedrals, that could either mimic geometrical features (e.g. pore size distribution) obtained by X-ray tomography analysis or generate new prototype geometries. The geometries were then subjected to uniaxial and multiaxial mechanical loading at the mesoscale level from which the macroscale properties were obtained. The virtual specimens were simulated using finite element techniques (Abaqus) at different strain rates. The project was partially funded by Rolls Royce, EPSRC and in collaboration with the IMI Canada.\\nMetal Alloys-Ballistics-Aerospace Components\\nDr Siegkas worked on the ballistic performance of granular materials (including Nickel at temperatures up to 800 degrees Celsius and Titanium alloys at room temperature) and jet engine components. The research was related to the aviation safety and impact energy management (i.e. jet engine fan blade off e.t.c.).\\nThe projects were focused in designing experiments to generate data for material model calibration and validation or used for the development and optimisation of new materials. The aim was to capture the material mechanisms involved in managing energy dissipation and related to application requirements. The work was done in collaboration with industrial partners (Rolls Royce, TIMET) and has received a departmental award under the University of Oxford departmental recognition scheme. Results were subject to publishing restrictions.\\nTraumatic Brain Injury and Protective Equipment\\nDuring a PDRA position at Imperial College London, Dr Siegkas worked on projects related to understanding and preventing traumatic brain injury. The work involved implementing finite element models and extracting information as to regions of the brain that were mechanically affected by impact loading.\\nOne of the projects was funded by the ‘’Welcome trust network of excellence’’ and was carried by a multidisciplinary team of experts from the fields of biology, neuroscience and solid mechanics. The second project was funded by the Welsh Government and was a collaboration between Imperial College and industrial partners (Dainese-AGV manufacturer of motorcycle helmets, Armougel manufacturer of liner add-on material). Dr Siegkas' role involved both experiments and computational modelling. Experiments included liner material characterisation (polymer), drop tower experiments on helmets (with and without added liner) and fitted on an instrumented head form. Modelling included using a head and brain model to extract information regarding potential injury and a full helmet-head form (Hybrid III) model of the drop tower tests aiming to extract information for further liner design and optimisation.\"],\n",
       " ['Sergio',\n",
       "  'sergio.rutella@ntu.ac.uk',\n",
       "  'Research areas\\nAreas of clinical research interest for Professor Rutella’s team include:\\nNovel immunotherapy approaches for haematological malignancies.\\nElements of this research work focus on the challenges encountered with the effective treatment of acute myeloid leukaemia (AML) and combine systems biology approaches (targeted immune gene expression and miRNA profiling, spatially-resolved transcriptomic/proteomic profiling, spectral flow cytometry, computational immunology and bioinformatics expertise) to:\\n-Discover gene signatures that are reflective of general immune status and predictive of anti-cancer immune potential;\\n-Assess immune cell infiltration and the expression of immune checkpoint molecules;\\n-Identify ‘actionable’ targets/molecular pathways that can predict patient outcome and therefore assist the tailoring and improve the effectiveness of therapeutic interventions.\\nIFN-gamma-mediated tumour immune evasion and response to immunotherapy.\\nPro-tumorigenic activities of IFN-gamma have recently emerged depending on the context, intensity and durability of IFN-gamma signalling. The research team is studying whether T-cell infiltration and IFN-gamma production in the AML bone marrow microenvironment correlate with patient response to immunotherapeutic agents, including bispecific antibodies and chimeric antigen receptor (CAR) T cells. Cutting-edge technologies, such as GeoMx-DSP and single-cell RNA-sequencing, are being used to analyse the location, density and functional orientation of the different immune cell populations in primary tissue biopsies, i.e., the ‘immune contexture’ of the tumour microenvironment. We are also focusing on the role played by IFN-stimulated genes in mediating resistance of AML cells to chemotherapy agents.\\nAnalysis of high-dimensional transcriptomic data from human tumours.\\nWe have curated publicly available datasets for AML, melanoma, ovarian, prostate, lung and colorectal cancers. Each data set is currently being mined for multiple cancer-related features, including signatures of immune effector senescence. The group has expertise in the identification of molecular drivers of cancer phenotypes based on artificial neural network (ANN) analysis. We are also using immune deconvolution algorithms (CIBERSORT; PRECOG; EPIC; quanTIseq) to infer the frequency and quality of tumour-infiltrating immune cells from transcriptomic datasets and to identify immune determinants of patient response to therapy.\\nPharmacological re-activation of mutant TP53 in acute myeloid leukaemia and its effect on the expression of inflammatory mediators.\\nTP53-mutated human malignancies, including AML, are characterised by chemotherapy resistance and have a poor clinical outcome. The great majority of TP53 mutations in AML are associated with loss-of-function (LOF) of the mutated protein. The team have generated data showing that TP53 mutations correlate with the expression of inflammatory molecules in the tumour microenvironment. This element of work aims to understand how the pharmacological re-activation of TP53 affects the expression of inflammatory genes in AML cells, with a focus on interferon-inducible molecules and on actionable  immune checkpoints. We use state-of-the-art gene expression profiling and proteomics platforms, as well as conventional cellular and molecular immunology techniques, to interrogate the immune transcriptome and proteome of AML cells harbouring common TP53 mutations, also dissecting the interplay between TP53 and STAT1, a key interferon-stimulated gene. The following link provides media coverage to some of the ongoing research in this area (2019 SITC Annual Meeting, National Harbor, MD, USA):\\nhttps://www.mdedge.com/hematology-oncology/article/212531/aml/will-tp53-mutated-aml-respond-immunotherapy\\nOpportunities to carry out postgraduate research towards an MPhil/PhD exist within the School of Science and Technology and further information may be obtained from the NTU Doctoral School.'],\n",
       " ['Unknown',\n",
       "  'seema.patel02@ntu.ac.uk',\n",
       "  'Research areas\\nSeema has a PhD in sports law, specifically discrimination and the regulatory balance between inclusion and exclusion in competitive sport. She is an international expert on gender discrimination in sport, and has offered extensive media commentary on the legal implications of gender eligibility rules. Her recent academic publications examine the regulatory gaps in the protection of athletes’ human rights in sport. Seema has been involved in sport policy in this field and has also contributed to government consultation on inclusion and participation in sport.'],\n",
       " ['Unknown',\n",
       "  'adnan.saithna@ntu.ac.uk',\n",
       "  'Research areas\\nDr Saithna has active clinical research projects in the following areas:\\nAnterior cruciate ligament injuries (ACL reconstruction)\\nMeniscus Repair\\nCartilage Repair\\nRotator Cuff Tears\\nBiceps rupture\\nAcromioclavicular (ACJ) dislocation\\nDr Saithna has active research projects in the following areas at NTU:\\nMedical device innovation and development\\nImproving the biology of rotator cuff repair\\nFinite element analysis of knee ligament reconstruction\\nMRI evaluation of the meniscus\\nUse of wearable technology in orthopedic sports medicine'],\n",
       " ['Stephanie',\n",
       "  'stephanie.mcardle@ntu.ac.uk',\n",
       "  'Research areas\\nDr. McArdle is a Research Scientist in Tumour Immunology whose focus is on the development of T-cell vaccines against cancers. In particular, Dr. McArdle has identified a mutated Prostatic Acid Phosphatase, PAP, derived sequence, which, when injected with CAF09, a strong adjuvant (kind gift from Dr. Dennis Christensen, Serum Institute, Denmark), is capable of generating T-cells that produce high level of IFNg against vaccine-derived wild-type peptides using ex-vivo ELISPOT assay. This sequence has now been granted patent in Europe and in the US. Preclinical works are ongoing to gather the necessary data for a phase-0/I clinical trial for the treatment of hormone resistant prostate cancer. Dr. McArdle is also working on a HAGE- and mutated NY-ESO1-derived peptide sequences for the treatment of Triple Negative Breast Cancer (TNBC). HAGE antigen has previously been shown to be a prognostic marker for breast cancer patients and a predictor of response to adjuvant chemotherapy (Abdel-Fatah, et al. 2014). In collaboration with Dr. Abdel-Fatah, HAGE was shown to be expressed in 47% of TNBC (Abdel-Fatah, et al. 2016). Dr. McArdle has recently set up a new collaboration with Dr. Sara Mangsbo at Upsala University (Sweden) where immune complexes will be used to deliver and stimulate strong immune responses against HAGE and NY-ESO1 sequences.\\nIn addition, in collaboration with Scancell Ltd she is investigating the potential use of a combined TRP2 and WT1 vaccine for the treatment of Glioblastoma. Many of these antigens can also be used against other cancer, for example, HAGE and WT1 are also being investigated for the treatment of Leukaemia.\\nDr. McArdle collaborates with many European laboratories which offers strong adjuvants such as CAF09 (Dr. Dennis Christensen, Serum Institute, Denmark), Immune-complexes (Dr. Sara Mangsbo (Upsala University, Sweden), L-Dopa, a precursor of melanin (Dr. Antoine Carpentier, Université Paris Descartes, Paris, France) as well as UK collaborator such as Prof. Lindy Durrant (Immunobody®, Nottingham University).\\nDr. McArdle has also a particular interest in the effect of exercise, mental health and gut microbiota on the immune system of cancer patients and a study in ongoing in prostate cancer patients to assess the level of inflammation related molecules, the psychological status and the gut permeability of prostate benign vs cancer patients. She is keen to emphasise the importance of one’s life style on one’s health. She has previously organised two “Health and Well Being” day dedicated to promote self-help. The next “Health and Well-Being day” being scheduled for March 16th 2019.\\nwww.ntu.ac.uk/healthday\\n“Opportunities arise to carry out postgraduate research towards an MPhil / PhD in the areas identified above. Further information may be obtained on the NTU Research Degrees website\\nhttps://www.ntu.ac.uk/research/research-degrees-at-ntu”.'],\n",
       " ['Susan',\n",
       "  'susan.mclaughlin@ntu.ac.uk',\n",
       "  \"Research areas\\nSue's main research interests are:\\ncompany law and antitrust law\\norganisational structure law\"],\n",
       " ['Unknown',\n",
       "  'augustine.arimoro@ntu.ac.uk',\n",
       "  \"Research areas\\nAugustine's  PhD examined the legal frameworks for public-private partnerships in emerging economies. His first monograph (Public-Private Partnerships in Emerging Economies) was published by Routledge in October 2020).  He welcomes students' interests and collaborations in the following areas:\\nSustainable Development  Goals  (SDGs)\\nLaw and Development\\nLaw for the Built  Environment  (including construction and public-private partnerships)\\nInternational  Human Rights.\"],\n",
       " ['Yvonne',\n",
       "  'yvonne.carlisle@ntu.ac.uk',\n",
       "  'Research areas\\nYvonne’s doctoral studies focused on the impact of organisational change on professional and occupational identities, from which she has published in peer review journals. More recently, her research emphasis has two strands - pedagogic and International Human Resource Management. Pedagogical research includes internationalisation of the curriculum, in particular with relation to student and faculty mobility. Her present research in this area is on Internationalisation at home (but from an International Human Resource Management lens), where she is presently investigating impacts of levels of cultural intelligence amongst faculty. Additionally Yvonne is involved in a joint project with the Management School, University of Liverpool – Personalisation of student learning from a self – concept perspective. Yvonne has 5 doctoral completions to date (4 DBA, 1 PhD), and is currently supervising 5 DBA, and 1 PhD. She also acts as a University Chair and Internal Examiner for doctoral vivas.']]"
      ]
     },
     "execution_count": 8,
     "metadata": {},
     "output_type": "execute_result"
    }
   ],
   "source": [
    "data"
   ]
  },
  {
   "cell_type": "code",
   "execution_count": 9,
   "id": "e6b51b22",
   "metadata": {},
   "outputs": [
    {
     "data": {
      "text/plain": [
       "10"
      ]
     },
     "execution_count": 9,
     "metadata": {},
     "output_type": "execute_result"
    }
   ],
   "source": [
    "len(data)"
   ]
  },
  {
   "cell_type": "markdown",
   "id": "bea990f6",
   "metadata": {},
   "source": [
    "# Create Pandas Dataframe"
   ]
  },
  {
   "cell_type": "code",
   "execution_count": 10,
   "id": "5b29c3b1",
   "metadata": {},
   "outputs": [
    {
     "data": {
      "text/html": [
       "<div>\n",
       "<style scoped>\n",
       "    .dataframe tbody tr th:only-of-type {\n",
       "        vertical-align: middle;\n",
       "    }\n",
       "\n",
       "    .dataframe tbody tr th {\n",
       "        vertical-align: top;\n",
       "    }\n",
       "\n",
       "    .dataframe thead th {\n",
       "        text-align: right;\n",
       "    }\n",
       "</style>\n",
       "<table border=\"1\" class=\"dataframe\">\n",
       "  <thead>\n",
       "    <tr style=\"text-align: right;\">\n",
       "      <th></th>\n",
       "      <th>Name</th>\n",
       "      <th>email</th>\n",
       "      <th>research_area</th>\n",
       "    </tr>\n",
       "  </thead>\n",
       "  <tbody>\n",
       "    <tr>\n",
       "      <th>0</th>\n",
       "      <td>Mark</td>\n",
       "      <td>mark.turner@ntu.ac.uk</td>\n",
       "      <td>Research areas\\nResearch in the Turner laborat...</td>\n",
       "    </tr>\n",
       "    <tr>\n",
       "      <th>1</th>\n",
       "      <td>Unknown</td>\n",
       "      <td>richard.mcfarland@ntu.ac.uk</td>\n",
       "      <td>Research areas\\nThe underlying objective of my...</td>\n",
       "    </tr>\n",
       "    <tr>\n",
       "      <th>2</th>\n",
       "      <td>petros</td>\n",
       "      <td>petros.siegkas@ntu.ac.uk</td>\n",
       "      <td>Research areas\\nDr Siegkas’ research within th...</td>\n",
       "    </tr>\n",
       "    <tr>\n",
       "      <th>3</th>\n",
       "      <td>Sergio</td>\n",
       "      <td>sergio.rutella@ntu.ac.uk</td>\n",
       "      <td>Research areas\\nAreas of clinical research int...</td>\n",
       "    </tr>\n",
       "    <tr>\n",
       "      <th>4</th>\n",
       "      <td>Unknown</td>\n",
       "      <td>seema.patel02@ntu.ac.uk</td>\n",
       "      <td>Research areas\\nSeema has a PhD in sports law,...</td>\n",
       "    </tr>\n",
       "    <tr>\n",
       "      <th>5</th>\n",
       "      <td>Unknown</td>\n",
       "      <td>adnan.saithna@ntu.ac.uk</td>\n",
       "      <td>Research areas\\nDr Saithna has active clinical...</td>\n",
       "    </tr>\n",
       "    <tr>\n",
       "      <th>6</th>\n",
       "      <td>Stephanie</td>\n",
       "      <td>stephanie.mcardle@ntu.ac.uk</td>\n",
       "      <td>Research areas\\nDr. McArdle is a Research Scie...</td>\n",
       "    </tr>\n",
       "    <tr>\n",
       "      <th>7</th>\n",
       "      <td>Susan</td>\n",
       "      <td>susan.mclaughlin@ntu.ac.uk</td>\n",
       "      <td>Research areas\\nSue's main research interests ...</td>\n",
       "    </tr>\n",
       "    <tr>\n",
       "      <th>8</th>\n",
       "      <td>Unknown</td>\n",
       "      <td>augustine.arimoro@ntu.ac.uk</td>\n",
       "      <td>Research areas\\nAugustine's  PhD examined the ...</td>\n",
       "    </tr>\n",
       "    <tr>\n",
       "      <th>9</th>\n",
       "      <td>Yvonne</td>\n",
       "      <td>yvonne.carlisle@ntu.ac.uk</td>\n",
       "      <td>Research areas\\nYvonne’s doctoral studies focu...</td>\n",
       "    </tr>\n",
       "  </tbody>\n",
       "</table>\n",
       "</div>"
      ],
      "text/plain": [
       "        Name                        email  \\\n",
       "0       Mark        mark.turner@ntu.ac.uk   \n",
       "1    Unknown  richard.mcfarland@ntu.ac.uk   \n",
       "2     petros     petros.siegkas@ntu.ac.uk   \n",
       "3     Sergio     sergio.rutella@ntu.ac.uk   \n",
       "4    Unknown      seema.patel02@ntu.ac.uk   \n",
       "5    Unknown      adnan.saithna@ntu.ac.uk   \n",
       "6  Stephanie  stephanie.mcardle@ntu.ac.uk   \n",
       "7      Susan   susan.mclaughlin@ntu.ac.uk   \n",
       "8    Unknown  augustine.arimoro@ntu.ac.uk   \n",
       "9     Yvonne    yvonne.carlisle@ntu.ac.uk   \n",
       "\n",
       "                                       research_area  \n",
       "0  Research areas\\nResearch in the Turner laborat...  \n",
       "1  Research areas\\nThe underlying objective of my...  \n",
       "2  Research areas\\nDr Siegkas’ research within th...  \n",
       "3  Research areas\\nAreas of clinical research int...  \n",
       "4  Research areas\\nSeema has a PhD in sports law,...  \n",
       "5  Research areas\\nDr Saithna has active clinical...  \n",
       "6  Research areas\\nDr. McArdle is a Research Scie...  \n",
       "7  Research areas\\nSue's main research interests ...  \n",
       "8  Research areas\\nAugustine's  PhD examined the ...  \n",
       "9  Research areas\\nYvonne’s doctoral studies focu...  "
      ]
     },
     "execution_count": 10,
     "metadata": {},
     "output_type": "execute_result"
    }
   ],
   "source": [
    "df = pd.DataFrame(data, columns = ['Name', 'email', 'research_area'])\n",
    "df"
   ]
  },
  {
   "cell_type": "code",
   "execution_count": 11,
   "id": "6bcc1a99",
   "metadata": {},
   "outputs": [],
   "source": [
    "df.to_csv(\"faculty_member_notthingham.csv\", index=False)"
   ]
  },
  {
   "cell_type": "code",
   "execution_count": null,
   "id": "2f1d91ae",
   "metadata": {},
   "outputs": [],
   "source": []
  }
 ],
 "metadata": {
  "kernelspec": {
   "display_name": "Python 3 (ipykernel)",
   "language": "python",
   "name": "python3"
  },
  "language_info": {
   "codemirror_mode": {
    "name": "ipython",
    "version": 3
   },
   "file_extension": ".py",
   "mimetype": "text/x-python",
   "name": "python",
   "nbconvert_exporter": "python",
   "pygments_lexer": "ipython3",
   "version": "3.11.2"
  }
 },
 "nbformat": 4,
 "nbformat_minor": 5
}
