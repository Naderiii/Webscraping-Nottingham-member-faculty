{
 "cells": [
  {
   "cell_type": "markdown",
   "id": "312c5f89",
   "metadata": {},
   "source": [
    "# Import libraries and modules"
   ]
  },
  {
   "cell_type": "code",
   "execution_count": 1,
   "id": "ac617c6e",
   "metadata": {},
   "outputs": [],
   "source": [
    "# selenium import here\n",
    "\n",
    "from selenium import webdriver\n",
    "from selenium.webdriver.common.by import By\n",
    "from selenium.webdriver.chrome.service import Service\n",
    "\n",
    "from selenium.webdriver.support.ui import WebDriverWait\n",
    "from selenium.webdriver.support import expected_conditions as EC\n",
    "from selenium.webdriver.common.keys import Keys\n"
   ]
  },
  {
   "cell_type": "code",
   "execution_count": 2,
   "id": "fcb10c25",
   "metadata": {},
   "outputs": [],
   "source": [
    "# Other import here\n",
    "\n",
    "import pandas as pd\n",
    "import time\n"
   ]
  },
  {
   "cell_type": "markdown",
   "id": "752e067d",
   "metadata": {},
   "source": [
    "# Start and Setup"
   ]
  },
  {
   "cell_type": "code",
   "execution_count": 3,
   "id": "1fe431cf",
   "metadata": {},
   "outputs": [],
   "source": [
    "\n",
    "start_time = time.time()\n",
    "url = \"https://www.ntu.ac.uk/search?query=Faculty%20member%20of%20biology&category=&sort=relevance&category=Staff\"\n",
    "s = Service(\"chromedriver-win32/chromedriver\")\n",
    "\n",
    "driver = webdriver.Chrome(service = s)\n",
    "driver.get(url)\n",
    "time.sleep(3)\n"
   ]
  },
  {
   "cell_type": "code",
   "execution_count": 4,
   "id": "087c8fb3",
   "metadata": {},
   "outputs": [],
   "source": [
    "# Close cookie banner if present\n",
    "\n",
    "try:\n",
    "    WebDriverWait(driver, 10).until(EC.element_to_be_clickable((By.CLASS_NAME, \"accept-cookies\"))).click()\n",
    "except:\n",
    "    pass"
   ]
  },
  {
   "cell_type": "markdown",
   "id": "e78e2cc4",
   "metadata": {},
   "source": [
    "# Filter of staff"
   ]
  },
  {
   "cell_type": "code",
   "execution_count": 5,
   "id": "47809c72",
   "metadata": {},
   "outputs": [],
   "source": [
    "# select staff checkbox members\n",
    "\n",
    "# driver.maximize_window()\n",
    "# sttaf_chechbox = driver.find_element(By.XPATH, value = '//label[@for = \"Staff\"]')\n",
    "# sttaf_chechbox.click()\n",
    "# time.sleep(5)"
   ]
  },
  {
   "cell_type": "markdown",
   "id": "68be3ff3",
   "metadata": {},
   "source": [
    "### Load all results of search"
   ]
  },
  {
   "cell_type": "code",
   "execution_count": 6,
   "id": "5acee857",
   "metadata": {},
   "outputs": [
    {
     "name": "stdout",
     "output_type": "stream",
     "text": [
      "160\n"
     ]
    }
   ],
   "source": [
    "\n",
    "result_count = driver.find_element(By.XPATH, value= '//strong[@class = \"resultCount\"]').text\n",
    "result_count = int(result_count)\n",
    "print(result_count)\n"
   ]
  },
  {
   "cell_type": "code",
   "execution_count": 7,
   "id": "99641bb6",
   "metadata": {},
   "outputs": [],
   "source": [
    "\n",
    "if result_count % 10 == 0:\n",
    "    page_count = result_count // 10 - 1\n",
    "else:\n",
    "    page_count = result_count // 10\n",
    "\n",
    "for i in range(page_count):\n",
    "        next_page = driver.find_element(By.XPATH, value = '//a[@class = \"more-results\" ]')\n",
    "        next_page.get_attribute(\"data-more\")\n",
    "        next_page.click()\n",
    "        time.sleep(10)\n",
    "    "
   ]
  },
  {
   "cell_type": "markdown",
   "id": "913ba296",
   "metadata": {},
   "source": [
    "### get list of sttuf link "
   ]
  },
  {
   "cell_type": "code",
   "execution_count": 22,
   "id": "aba8f0c2",
   "metadata": {},
   "outputs": [],
   "source": [
    "\n",
    "url_list = []\n",
    "\n",
    "all_items_url = driver.find_elements(By.XPATH, value = '//li[@class = \"result clearfix\"]')\n",
    "\n",
    "for i in range(len(all_items_url)):\n",
    "# get link of profile for each prof (item) and go that site\n",
    "\n",
    "    item = driver.find_elements(By.XPATH, value = './/li[@class = \"result clearfix\"]')[i]\n",
    "    links_prof_page = item.find_element(By.XPATH , value = './/h2[@class = \"result-title  skim-bottom\"]//a')\n",
    "    links_prof_page = links_prof_page.get_attribute('href')\n",
    "    url_list.append(links_prof_page)\n"
   ]
  },
  {
   "cell_type": "code",
   "execution_count": 10,
   "id": "a1963a19",
   "metadata": {},
   "outputs": [],
   "source": [
    "# store urls for each member\n",
    "\n",
    "url_df = pd.DataFrame({'url': url_list})\n",
    "url_df.to_csv(\"url_df.csv\", index=False)"
   ]
  },
  {
   "cell_type": "markdown",
   "id": "e35ab25f",
   "metadata": {},
   "source": [
    "### click to each link and extract all data"
   ]
  },
  {
   "cell_type": "code",
   "execution_count": 13,
   "id": "3ba7d830",
   "metadata": {},
   "outputs": [
    {
     "name": "stdout",
     "output_type": "stream",
     "text": [
      "finished!\n",
      "How long does it take to scrape the whole webpage? 10752.698683738708 seconds\n"
     ]
    }
   ],
   "source": [
    "\n",
    "data = []\n",
    "\n",
    "for url in url_list:\n",
    "    try:\n",
    "        # In each page of profile,we get name, email, department and research area\n",
    "        driver.get(url)\n",
    "        page_prof = driver.find_elements(By.XPATH , value = '//main[@class = \"main\"]')\n",
    "        \n",
    "        for section in page_prof:\n",
    "            \n",
    "                    try:\n",
    "                        name = section.find_element(By.XPATH , value = \".//h1[@class = 'page-heading skim-top skim-bottom']\").text\n",
    "                    except:\n",
    "                        name = \"Unknown\"\n",
    "                        \n",
    "                    try:\n",
    "                        email = section.find_element(By.XPATH  , value = './/a[@itemprop= \"email\"]').text\n",
    "                    except:\n",
    "                        email = \"Unknown\"\n",
    "\n",
    "                    try:\n",
    "                        department = section.find_element(By.XPATH, value= './/h3[@class = \"skim-top skim-bottom\"]').text\n",
    "                    except:\n",
    "                        department = 'Unknown' \n",
    "\n",
    "                    try:\n",
    "                        research_area = section.find_element(By.XPATH , value = './/div[@class= \"grey-shade key-panel\"]').text\n",
    "                    except:\n",
    "                        research_area = \"Unknown\"\n",
    "\n",
    "                    data.append([name, email, department, research_area])\n",
    "        \n",
    "    \n",
    "    except:\n",
    "        print(\"finished!\")\n",
    "        break\n",
    "\n",
    "print('How long does it take to scrape the whole webpage? {} seconds'.format(time.time() - start_time))\n"
   ]
  },
  {
   "cell_type": "code",
   "execution_count": 14,
   "id": "655202bb",
   "metadata": {},
   "outputs": [
    {
     "data": {
      "text/plain": [
       "63"
      ]
     },
     "execution_count": 14,
     "metadata": {},
     "output_type": "execute_result"
    }
   ],
   "source": [
    "len(data)"
   ]
  },
  {
   "cell_type": "markdown",
   "id": "bea990f6",
   "metadata": {},
   "source": [
    "# Create Pandas Dataframe"
   ]
  },
  {
   "cell_type": "code",
   "execution_count": 15,
   "id": "5b29c3b1",
   "metadata": {},
   "outputs": [
    {
     "data": {
      "text/html": [
       "<div>\n",
       "<style scoped>\n",
       "    .dataframe tbody tr th:only-of-type {\n",
       "        vertical-align: middle;\n",
       "    }\n",
       "\n",
       "    .dataframe tbody tr th {\n",
       "        vertical-align: top;\n",
       "    }\n",
       "\n",
       "    .dataframe thead th {\n",
       "        text-align: right;\n",
       "    }\n",
       "</style>\n",
       "<table border=\"1\" class=\"dataframe\">\n",
       "  <thead>\n",
       "    <tr style=\"text-align: right;\">\n",
       "      <th></th>\n",
       "      <th>Name</th>\n",
       "      <th>email</th>\n",
       "      <th>department</th>\n",
       "      <th>research_area</th>\n",
       "    </tr>\n",
       "  </thead>\n",
       "  <tbody>\n",
       "    <tr>\n",
       "      <th>0</th>\n",
       "      <td>Richard McFarland</td>\n",
       "      <td>richard.mcfarland@ntu.ac.uk</td>\n",
       "      <td>School of Social Sciences</td>\n",
       "      <td>Research areas\\nThe underlying objective of my...</td>\n",
       "    </tr>\n",
       "    <tr>\n",
       "      <th>1</th>\n",
       "      <td>Adnan Saithna</td>\n",
       "      <td>adnan.saithna@ntu.ac.uk</td>\n",
       "      <td></td>\n",
       "      <td>Research areas\\nDr Saithna has active clinical...</td>\n",
       "    </tr>\n",
       "    <tr>\n",
       "      <th>2</th>\n",
       "      <td>Sergio Rutella</td>\n",
       "      <td>sergio.rutella@ntu.ac.uk</td>\n",
       "      <td>School of Science &amp; Technology</td>\n",
       "      <td>Research areas\\nAreas of clinical research int...</td>\n",
       "    </tr>\n",
       "    <tr>\n",
       "      <th>3</th>\n",
       "      <td>petros siegkas</td>\n",
       "      <td>petros.siegkas@ntu.ac.uk</td>\n",
       "      <td>School of Science &amp; Technology</td>\n",
       "      <td>Research areas\\nDr Siegkas’ research within th...</td>\n",
       "    </tr>\n",
       "    <tr>\n",
       "      <th>4</th>\n",
       "      <td>Dr Seema Patel</td>\n",
       "      <td>seema.patel02@ntu.ac.uk</td>\n",
       "      <td>Nottingham Law School</td>\n",
       "      <td>Research areas\\nSeema has a PhD in sports law,...</td>\n",
       "    </tr>\n",
       "    <tr>\n",
       "      <th>...</th>\n",
       "      <td>...</td>\n",
       "      <td>...</td>\n",
       "      <td>...</td>\n",
       "      <td>...</td>\n",
       "    </tr>\n",
       "    <tr>\n",
       "      <th>58</th>\n",
       "      <td>Richard Yarnell</td>\n",
       "      <td>richard.yarnell@ntu.ac.uk</td>\n",
       "      <td>School of Animal Rural &amp; Environmental Sciences</td>\n",
       "      <td>Research areas\\nAreas of research interest inc...</td>\n",
       "    </tr>\n",
       "    <tr>\n",
       "      <th>59</th>\n",
       "      <td>Mufti Mahmud</td>\n",
       "      <td>mufti.mahmud@ntu.ac.uk</td>\n",
       "      <td>Department of Computer Science; Computing and ...</td>\n",
       "      <td>Research areas\\nPostdoctoral researchers\\nAndr...</td>\n",
       "    </tr>\n",
       "    <tr>\n",
       "      <th>60</th>\n",
       "      <td>Aldo Gutierrez</td>\n",
       "      <td>aldo.gutierrez@ntu.ac.uk</td>\n",
       "      <td>School of Science &amp; Technology</td>\n",
       "      <td>Research areas\\nDr Gutierrez is a member of th...</td>\n",
       "    </tr>\n",
       "    <tr>\n",
       "      <th>61</th>\n",
       "      <td>Louise Gentle</td>\n",
       "      <td>louise.gentle@ntu.ac.uk</td>\n",
       "      <td>School of Animal Rural &amp; Environmental Sciences</td>\n",
       "      <td>Research areas\\nAreas of research interest inc...</td>\n",
       "    </tr>\n",
       "    <tr>\n",
       "      <th>62</th>\n",
       "      <td>John Wallis</td>\n",
       "      <td>john.wallis@ntu.ac.uk</td>\n",
       "      <td>Emeritus Professor of Organic Chemistry</td>\n",
       "      <td>Research areas\\nThe Wallis group has research ...</td>\n",
       "    </tr>\n",
       "  </tbody>\n",
       "</table>\n",
       "<p>63 rows × 4 columns</p>\n",
       "</div>"
      ],
      "text/plain": [
       "                 Name                        email  \\\n",
       "0   Richard McFarland  richard.mcfarland@ntu.ac.uk   \n",
       "1       Adnan Saithna      adnan.saithna@ntu.ac.uk   \n",
       "2      Sergio Rutella     sergio.rutella@ntu.ac.uk   \n",
       "3      petros siegkas     petros.siegkas@ntu.ac.uk   \n",
       "4      Dr Seema Patel      seema.patel02@ntu.ac.uk   \n",
       "..                ...                          ...   \n",
       "58    Richard Yarnell    richard.yarnell@ntu.ac.uk   \n",
       "59       Mufti Mahmud       mufti.mahmud@ntu.ac.uk   \n",
       "60     Aldo Gutierrez     aldo.gutierrez@ntu.ac.uk   \n",
       "61      Louise Gentle      louise.gentle@ntu.ac.uk   \n",
       "62        John Wallis        john.wallis@ntu.ac.uk   \n",
       "\n",
       "                                           department  \\\n",
       "0                           School of Social Sciences   \n",
       "1                                                       \n",
       "2                      School of Science & Technology   \n",
       "3                      School of Science & Technology   \n",
       "4                               Nottingham Law School   \n",
       "..                                                ...   \n",
       "58    School of Animal Rural & Environmental Sciences   \n",
       "59  Department of Computer Science; Computing and ...   \n",
       "60                     School of Science & Technology   \n",
       "61    School of Animal Rural & Environmental Sciences   \n",
       "62            Emeritus Professor of Organic Chemistry   \n",
       "\n",
       "                                        research_area  \n",
       "0   Research areas\\nThe underlying objective of my...  \n",
       "1   Research areas\\nDr Saithna has active clinical...  \n",
       "2   Research areas\\nAreas of clinical research int...  \n",
       "3   Research areas\\nDr Siegkas’ research within th...  \n",
       "4   Research areas\\nSeema has a PhD in sports law,...  \n",
       "..                                                ...  \n",
       "58  Research areas\\nAreas of research interest inc...  \n",
       "59  Research areas\\nPostdoctoral researchers\\nAndr...  \n",
       "60  Research areas\\nDr Gutierrez is a member of th...  \n",
       "61  Research areas\\nAreas of research interest inc...  \n",
       "62  Research areas\\nThe Wallis group has research ...  \n",
       "\n",
       "[63 rows x 4 columns]"
      ]
     },
     "execution_count": 15,
     "metadata": {},
     "output_type": "execute_result"
    }
   ],
   "source": [
    "\n",
    "df = pd.DataFrame(data, columns = ['Name', 'email', 'department' , 'research_area'])\n",
    "df\n"
   ]
  },
  {
   "cell_type": "code",
   "execution_count": 17,
   "id": "bb8a1b1b",
   "metadata": {},
   "outputs": [],
   "source": [
    "\n",
    "url_df = df.drop_duplicates()\n",
    "df = df.drop_duplicates()\n"
   ]
  },
  {
   "cell_type": "code",
   "execution_count": 18,
   "id": "541e2142",
   "metadata": {},
   "outputs": [
    {
     "data": {
      "text/plain": [
       "63"
      ]
     },
     "execution_count": 18,
     "metadata": {},
     "output_type": "execute_result"
    }
   ],
   "source": [
    "len(url_df)"
   ]
  },
  {
   "cell_type": "code",
   "execution_count": 19,
   "id": "cd86f913",
   "metadata": {},
   "outputs": [
    {
     "data": {
      "text/plain": [
       "63"
      ]
     },
     "execution_count": 19,
     "metadata": {},
     "output_type": "execute_result"
    }
   ],
   "source": [
    "len(df)"
   ]
  },
  {
   "cell_type": "code",
   "execution_count": 20,
   "id": "2f1d91ae",
   "metadata": {},
   "outputs": [
    {
     "data": {
      "text/html": [
       "<div>\n",
       "<style scoped>\n",
       "    .dataframe tbody tr th:only-of-type {\n",
       "        vertical-align: middle;\n",
       "    }\n",
       "\n",
       "    .dataframe tbody tr th {\n",
       "        vertical-align: top;\n",
       "    }\n",
       "\n",
       "    .dataframe thead th {\n",
       "        text-align: right;\n",
       "    }\n",
       "</style>\n",
       "<table border=\"1\" class=\"dataframe\">\n",
       "  <thead>\n",
       "    <tr style=\"text-align: right;\">\n",
       "      <th></th>\n",
       "      <th>Name</th>\n",
       "      <th>email</th>\n",
       "      <th>department</th>\n",
       "      <th>research_area</th>\n",
       "      <th>Name</th>\n",
       "      <th>email</th>\n",
       "      <th>department</th>\n",
       "      <th>research_area</th>\n",
       "    </tr>\n",
       "  </thead>\n",
       "  <tbody>\n",
       "    <tr>\n",
       "      <th>0</th>\n",
       "      <td>Richard McFarland</td>\n",
       "      <td>richard.mcfarland@ntu.ac.uk</td>\n",
       "      <td>School of Social Sciences</td>\n",
       "      <td>Research areas\\nThe underlying objective of my...</td>\n",
       "      <td>Richard McFarland</td>\n",
       "      <td>richard.mcfarland@ntu.ac.uk</td>\n",
       "      <td>School of Social Sciences</td>\n",
       "      <td>Research areas\\nThe underlying objective of my...</td>\n",
       "    </tr>\n",
       "    <tr>\n",
       "      <th>1</th>\n",
       "      <td>Adnan Saithna</td>\n",
       "      <td>adnan.saithna@ntu.ac.uk</td>\n",
       "      <td></td>\n",
       "      <td>Research areas\\nDr Saithna has active clinical...</td>\n",
       "      <td>Adnan Saithna</td>\n",
       "      <td>adnan.saithna@ntu.ac.uk</td>\n",
       "      <td></td>\n",
       "      <td>Research areas\\nDr Saithna has active clinical...</td>\n",
       "    </tr>\n",
       "    <tr>\n",
       "      <th>2</th>\n",
       "      <td>Sergio Rutella</td>\n",
       "      <td>sergio.rutella@ntu.ac.uk</td>\n",
       "      <td>School of Science &amp; Technology</td>\n",
       "      <td>Research areas\\nAreas of clinical research int...</td>\n",
       "      <td>Sergio Rutella</td>\n",
       "      <td>sergio.rutella@ntu.ac.uk</td>\n",
       "      <td>School of Science &amp; Technology</td>\n",
       "      <td>Research areas\\nAreas of clinical research int...</td>\n",
       "    </tr>\n",
       "    <tr>\n",
       "      <th>3</th>\n",
       "      <td>petros siegkas</td>\n",
       "      <td>petros.siegkas@ntu.ac.uk</td>\n",
       "      <td>School of Science &amp; Technology</td>\n",
       "      <td>Research areas\\nDr Siegkas’ research within th...</td>\n",
       "      <td>petros siegkas</td>\n",
       "      <td>petros.siegkas@ntu.ac.uk</td>\n",
       "      <td>School of Science &amp; Technology</td>\n",
       "      <td>Research areas\\nDr Siegkas’ research within th...</td>\n",
       "    </tr>\n",
       "    <tr>\n",
       "      <th>4</th>\n",
       "      <td>Dr Seema Patel</td>\n",
       "      <td>seema.patel02@ntu.ac.uk</td>\n",
       "      <td>Nottingham Law School</td>\n",
       "      <td>Research areas\\nSeema has a PhD in sports law,...</td>\n",
       "      <td>Dr Seema Patel</td>\n",
       "      <td>seema.patel02@ntu.ac.uk</td>\n",
       "      <td>Nottingham Law School</td>\n",
       "      <td>Research areas\\nSeema has a PhD in sports law,...</td>\n",
       "    </tr>\n",
       "    <tr>\n",
       "      <th>...</th>\n",
       "      <td>...</td>\n",
       "      <td>...</td>\n",
       "      <td>...</td>\n",
       "      <td>...</td>\n",
       "      <td>...</td>\n",
       "      <td>...</td>\n",
       "      <td>...</td>\n",
       "      <td>...</td>\n",
       "    </tr>\n",
       "    <tr>\n",
       "      <th>58</th>\n",
       "      <td>Richard Yarnell</td>\n",
       "      <td>richard.yarnell@ntu.ac.uk</td>\n",
       "      <td>School of Animal Rural &amp; Environmental Sciences</td>\n",
       "      <td>Research areas\\nAreas of research interest inc...</td>\n",
       "      <td>Richard Yarnell</td>\n",
       "      <td>richard.yarnell@ntu.ac.uk</td>\n",
       "      <td>School of Animal Rural &amp; Environmental Sciences</td>\n",
       "      <td>Research areas\\nAreas of research interest inc...</td>\n",
       "    </tr>\n",
       "    <tr>\n",
       "      <th>59</th>\n",
       "      <td>Mufti Mahmud</td>\n",
       "      <td>mufti.mahmud@ntu.ac.uk</td>\n",
       "      <td>Department of Computer Science; Computing and ...</td>\n",
       "      <td>Research areas\\nPostdoctoral researchers\\nAndr...</td>\n",
       "      <td>Mufti Mahmud</td>\n",
       "      <td>mufti.mahmud@ntu.ac.uk</td>\n",
       "      <td>Department of Computer Science; Computing and ...</td>\n",
       "      <td>Research areas\\nPostdoctoral researchers\\nAndr...</td>\n",
       "    </tr>\n",
       "    <tr>\n",
       "      <th>60</th>\n",
       "      <td>Aldo Gutierrez</td>\n",
       "      <td>aldo.gutierrez@ntu.ac.uk</td>\n",
       "      <td>School of Science &amp; Technology</td>\n",
       "      <td>Research areas\\nDr Gutierrez is a member of th...</td>\n",
       "      <td>Aldo Gutierrez</td>\n",
       "      <td>aldo.gutierrez@ntu.ac.uk</td>\n",
       "      <td>School of Science &amp; Technology</td>\n",
       "      <td>Research areas\\nDr Gutierrez is a member of th...</td>\n",
       "    </tr>\n",
       "    <tr>\n",
       "      <th>61</th>\n",
       "      <td>Louise Gentle</td>\n",
       "      <td>louise.gentle@ntu.ac.uk</td>\n",
       "      <td>School of Animal Rural &amp; Environmental Sciences</td>\n",
       "      <td>Research areas\\nAreas of research interest inc...</td>\n",
       "      <td>Louise Gentle</td>\n",
       "      <td>louise.gentle@ntu.ac.uk</td>\n",
       "      <td>School of Animal Rural &amp; Environmental Sciences</td>\n",
       "      <td>Research areas\\nAreas of research interest inc...</td>\n",
       "    </tr>\n",
       "    <tr>\n",
       "      <th>62</th>\n",
       "      <td>John Wallis</td>\n",
       "      <td>john.wallis@ntu.ac.uk</td>\n",
       "      <td>Emeritus Professor of Organic Chemistry</td>\n",
       "      <td>Research areas\\nThe Wallis group has research ...</td>\n",
       "      <td>John Wallis</td>\n",
       "      <td>john.wallis@ntu.ac.uk</td>\n",
       "      <td>Emeritus Professor of Organic Chemistry</td>\n",
       "      <td>Research areas\\nThe Wallis group has research ...</td>\n",
       "    </tr>\n",
       "  </tbody>\n",
       "</table>\n",
       "<p>63 rows × 8 columns</p>\n",
       "</div>"
      ],
      "text/plain": [
       "                 Name                        email  \\\n",
       "0   Richard McFarland  richard.mcfarland@ntu.ac.uk   \n",
       "1       Adnan Saithna      adnan.saithna@ntu.ac.uk   \n",
       "2      Sergio Rutella     sergio.rutella@ntu.ac.uk   \n",
       "3      petros siegkas     petros.siegkas@ntu.ac.uk   \n",
       "4      Dr Seema Patel      seema.patel02@ntu.ac.uk   \n",
       "..                ...                          ...   \n",
       "58    Richard Yarnell    richard.yarnell@ntu.ac.uk   \n",
       "59       Mufti Mahmud       mufti.mahmud@ntu.ac.uk   \n",
       "60     Aldo Gutierrez     aldo.gutierrez@ntu.ac.uk   \n",
       "61      Louise Gentle      louise.gentle@ntu.ac.uk   \n",
       "62        John Wallis        john.wallis@ntu.ac.uk   \n",
       "\n",
       "                                           department  \\\n",
       "0                           School of Social Sciences   \n",
       "1                                                       \n",
       "2                      School of Science & Technology   \n",
       "3                      School of Science & Technology   \n",
       "4                               Nottingham Law School   \n",
       "..                                                ...   \n",
       "58    School of Animal Rural & Environmental Sciences   \n",
       "59  Department of Computer Science; Computing and ...   \n",
       "60                     School of Science & Technology   \n",
       "61    School of Animal Rural & Environmental Sciences   \n",
       "62            Emeritus Professor of Organic Chemistry   \n",
       "\n",
       "                                        research_area               Name  \\\n",
       "0   Research areas\\nThe underlying objective of my...  Richard McFarland   \n",
       "1   Research areas\\nDr Saithna has active clinical...      Adnan Saithna   \n",
       "2   Research areas\\nAreas of clinical research int...     Sergio Rutella   \n",
       "3   Research areas\\nDr Siegkas’ research within th...     petros siegkas   \n",
       "4   Research areas\\nSeema has a PhD in sports law,...     Dr Seema Patel   \n",
       "..                                                ...                ...   \n",
       "58  Research areas\\nAreas of research interest inc...    Richard Yarnell   \n",
       "59  Research areas\\nPostdoctoral researchers\\nAndr...       Mufti Mahmud   \n",
       "60  Research areas\\nDr Gutierrez is a member of th...     Aldo Gutierrez   \n",
       "61  Research areas\\nAreas of research interest inc...      Louise Gentle   \n",
       "62  Research areas\\nThe Wallis group has research ...        John Wallis   \n",
       "\n",
       "                          email  \\\n",
       "0   richard.mcfarland@ntu.ac.uk   \n",
       "1       adnan.saithna@ntu.ac.uk   \n",
       "2      sergio.rutella@ntu.ac.uk   \n",
       "3      petros.siegkas@ntu.ac.uk   \n",
       "4       seema.patel02@ntu.ac.uk   \n",
       "..                          ...   \n",
       "58    richard.yarnell@ntu.ac.uk   \n",
       "59       mufti.mahmud@ntu.ac.uk   \n",
       "60     aldo.gutierrez@ntu.ac.uk   \n",
       "61      louise.gentle@ntu.ac.uk   \n",
       "62        john.wallis@ntu.ac.uk   \n",
       "\n",
       "                                           department  \\\n",
       "0                           School of Social Sciences   \n",
       "1                                                       \n",
       "2                      School of Science & Technology   \n",
       "3                      School of Science & Technology   \n",
       "4                               Nottingham Law School   \n",
       "..                                                ...   \n",
       "58    School of Animal Rural & Environmental Sciences   \n",
       "59  Department of Computer Science; Computing and ...   \n",
       "60                     School of Science & Technology   \n",
       "61    School of Animal Rural & Environmental Sciences   \n",
       "62            Emeritus Professor of Organic Chemistry   \n",
       "\n",
       "                                        research_area  \n",
       "0   Research areas\\nThe underlying objective of my...  \n",
       "1   Research areas\\nDr Saithna has active clinical...  \n",
       "2   Research areas\\nAreas of clinical research int...  \n",
       "3   Research areas\\nDr Siegkas’ research within th...  \n",
       "4   Research areas\\nSeema has a PhD in sports law,...  \n",
       "..                                                ...  \n",
       "58  Research areas\\nAreas of research interest inc...  \n",
       "59  Research areas\\nPostdoctoral researchers\\nAndr...  \n",
       "60  Research areas\\nDr Gutierrez is a member of th...  \n",
       "61  Research areas\\nAreas of research interest inc...  \n",
       "62  Research areas\\nThe Wallis group has research ...  \n",
       "\n",
       "[63 rows x 8 columns]"
      ]
     },
     "execution_count": 20,
     "metadata": {},
     "output_type": "execute_result"
    }
   ],
   "source": [
    "\n",
    "result = pd.concat([df, url_df], axis=1)\n",
    "result\n"
   ]
  },
  {
   "cell_type": "code",
   "execution_count": 21,
   "id": "6bcc1a99",
   "metadata": {},
   "outputs": [],
   "source": [
    "result.to_csv(\"faculty_member_notthingham.csv\", index=False)"
   ]
  },
  {
   "cell_type": "code",
   "execution_count": null,
   "id": "d18fc042",
   "metadata": {},
   "outputs": [],
   "source": []
  }
 ],
 "metadata": {
  "celltoolbar": "Raw Cell Format",
  "kernelspec": {
   "display_name": "Python 3 (ipykernel)",
   "language": "python",
   "name": "python3"
  },
  "language_info": {
   "codemirror_mode": {
    "name": "ipython",
    "version": 3
   },
   "file_extension": ".py",
   "mimetype": "text/x-python",
   "name": "python",
   "nbconvert_exporter": "python",
   "pygments_lexer": "ipython3",
   "version": "3.11.2"
  }
 },
 "nbformat": 4,
 "nbformat_minor": 5
}
