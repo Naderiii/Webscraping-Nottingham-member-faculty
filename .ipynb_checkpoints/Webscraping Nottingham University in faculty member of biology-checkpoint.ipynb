{
 "cells": [
  {
   "cell_type": "markdown",
   "id": "312c5f89",
   "metadata": {},
   "source": [
    "# Import libraries and modules"
   ]
  },
  {
   "cell_type": "code",
   "execution_count": null,
   "id": "ac617c6e",
   "metadata": {},
   "outputs": [],
   "source": [
    "# selenium impoet here\n",
    "\n",
    "from selenium import webdriver\n",
    "from selenium.webdriver.common.by import By\n",
    "from selenium.webdriver.chrome.service import Service\n",
    "\n",
    "from selenium.webdriver.support.ui import WebDriverWait\n",
    "from selenium.webdriver.support import expected_conditions as EC\n",
    "from selenium.webdriver.common.keys import Keys\n"
   ]
  },
  {
   "cell_type": "code",
   "execution_count": null,
   "id": "fcb10c25",
   "metadata": {},
   "outputs": [],
   "source": [
    "# Other import here\n",
    "\n",
    "import os\n",
    "import pandas as pd\n",
    "import time\n",
    "# import wget"
   ]
  },
  {
   "cell_type": "markdown",
   "id": "752e067d",
   "metadata": {},
   "source": [
    "# Start and Setup"
   ]
  },
  {
   "cell_type": "code",
   "execution_count": null,
   "id": "1fe431cf",
   "metadata": {},
   "outputs": [],
   "source": [
    "start_time = time.time()\n",
    "url = \"https://www.ntu.ac.uk/search?query=Faculty+member+of+biology&category=&sort=relevance\"\n",
    "s = Service(\"chromedriver-win32/chromedriver\")\n",
    "\n",
    "driver = webdriver.Chrome(service = s)\n",
    "driver.get(url)\n",
    "time.sleep(3)"
   ]
  },
  {
   "cell_type": "code",
   "execution_count": null,
   "id": "087c8fb3",
   "metadata": {},
   "outputs": [],
   "source": [
    "# Close cookie banner if present\n",
    "try:\n",
    "    WebDriverWait(driver, 10).until(EC.element_to_be_clickable((By.CLASS_NAME, \"accept-cookies\"))).click()\n",
    "except:\n",
    "    pass"
   ]
  },
  {
   "cell_type": "markdown",
   "id": "e78e2cc4",
   "metadata": {},
   "source": [
    "# Filter staff"
   ]
  },
  {
   "cell_type": "code",
   "execution_count": null,
   "id": "47809c72",
   "metadata": {},
   "outputs": [],
   "source": [
    "# select staff checkbox members\n",
    "\n",
    "sttaf_chechbox = driver.find_element(By.XPATH, value = '//label[@for = \"Staff\"]')\n",
    "sttaf_chechbox.click()\n",
    "time.sleep(5)"
   ]
  },
  {
   "cell_type": "markdown",
   "id": "731cbe17",
   "metadata": {},
   "source": [
    "# Find data"
   ]
  },
  {
   "cell_type": "code",
   "execution_count": null,
   "id": "ae6e5be7",
   "metadata": {},
   "outputs": [],
   "source": [
    "all_items = driver.find_elements(By.XPATH, value = '//li[@class = \"result clearfix\"]')\n",
    "\n",
    "data = []\n",
    "\n",
    "for item in all_items:\n",
    "    try:\n",
    "        name = item.find_element(By.XPATH, value = './/h2[@class = \"result-title  skim-bottom\"]//a').text\n",
    "    except:\n",
    "        name = 'Unknown'\n",
    "    \n",
    "    try:\n",
    "        Area_expertise = item.find_element(By.XPATH,\n",
    "                    value = '').text\n",
    "    except:\n",
    "        Area_expertise = 'Unknown'\n",
    "        \n",
    "    data.append([name,Area_expertise])"
   ]
  },
  {
   "cell_type": "code",
   "execution_count": null,
   "id": "4d433536",
   "metadata": {},
   "outputs": [],
   "source": [
    "data"
   ]
  },
  {
   "cell_type": "code",
   "execution_count": null,
   "id": "ff0070db",
   "metadata": {},
   "outputs": [],
   "source": []
  },
  {
   "cell_type": "code",
   "execution_count": null,
   "id": "75d4a898",
   "metadata": {},
   "outputs": [],
   "source": []
  },
  {
   "cell_type": "code",
   "execution_count": null,
   "id": "7a3095cd",
   "metadata": {},
   "outputs": [],
   "source": []
  },
  {
   "cell_type": "code",
   "execution_count": null,
   "id": "de90c32a",
   "metadata": {},
   "outputs": [],
   "source": []
  },
  {
   "cell_type": "code",
   "execution_count": null,
   "id": "f803c4ab",
   "metadata": {},
   "outputs": [],
   "source": []
  },
  {
   "cell_type": "code",
   "execution_count": null,
   "id": "b786899c",
   "metadata": {},
   "outputs": [],
   "source": []
  },
  {
   "cell_type": "code",
   "execution_count": null,
   "id": "e83937b7",
   "metadata": {},
   "outputs": [],
   "source": []
  },
  {
   "cell_type": "code",
   "execution_count": null,
   "id": "4e45389a",
   "metadata": {},
   "outputs": [],
   "source": []
  },
  {
   "cell_type": "code",
   "execution_count": null,
   "id": "748351b5",
   "metadata": {},
   "outputs": [],
   "source": []
  }
 ],
 "metadata": {
  "kernelspec": {
   "display_name": "Python 3 (ipykernel)",
   "language": "python",
   "name": "python3"
  },
  "language_info": {
   "codemirror_mode": {
    "name": "ipython",
    "version": 3
   },
   "file_extension": ".py",
   "mimetype": "text/x-python",
   "name": "python",
   "nbconvert_exporter": "python",
   "pygments_lexer": "ipython3",
   "version": "3.11.2"
  }
 },
 "nbformat": 4,
 "nbformat_minor": 5
}
