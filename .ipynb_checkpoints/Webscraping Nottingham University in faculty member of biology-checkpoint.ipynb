{
 "cells": [
  {
   "cell_type": "markdown",
   "id": "312c5f89",
   "metadata": {},
   "source": [
    "# Import libraries and modules"
   ]
  },
  {
   "cell_type": "code",
   "execution_count": 1,
   "id": "ac617c6e",
   "metadata": {},
   "outputs": [],
   "source": [
    "# selenium import here\n",
    "\n",
    "from selenium import webdriver\n",
    "from selenium.webdriver.common.by import By\n",
    "from selenium.webdriver.chrome.service import Service\n",
    "\n",
    "from selenium.webdriver.support.ui import WebDriverWait\n",
    "from selenium.webdriver.support import expected_conditions as EC\n",
    "from selenium.webdriver.common.keys import Keys\n"
   ]
  },
  {
   "cell_type": "code",
   "execution_count": 2,
   "id": "fcb10c25",
   "metadata": {},
   "outputs": [],
   "source": [
    "# Other import here\n",
    "\n",
    "import pandas as pd\n",
    "import time\n"
   ]
  },
  {
   "cell_type": "markdown",
   "id": "752e067d",
   "metadata": {},
   "source": [
    "# Start and Setup"
   ]
  },
  {
   "cell_type": "code",
   "execution_count": 9,
   "id": "1fe431cf",
   "metadata": {},
   "outputs": [],
   "source": [
    "\n",
    "start_time = time.time()\n",
    "url = \"https://www.ntu.ac.uk/search?query=Faculty%20member%20of%20biology&category=&sort=relevance&category=Staff\"\n",
    "s = Service(\"chromedriver-win32/chromedriver\")\n",
    "\n",
    "driver = webdriver.Chrome(service = s)\n",
    "driver.get(url)\n",
    "time.sleep(3)\n"
   ]
  },
  {
   "cell_type": "code",
   "execution_count": 10,
   "id": "087c8fb3",
   "metadata": {},
   "outputs": [],
   "source": [
    "# Close cookie banner if present\n",
    "\n",
    "try:\n",
    "    WebDriverWait(driver, 10).until(EC.element_to_be_clickable((By.CLASS_NAME, \"accept-cookies\"))).click()\n",
    "except:\n",
    "    pass"
   ]
  },
  {
   "cell_type": "markdown",
   "id": "e78e2cc4",
   "metadata": {},
   "source": [
    "# Filter of staff"
   ]
  },
  {
   "cell_type": "code",
   "execution_count": 11,
   "id": "47809c72",
   "metadata": {},
   "outputs": [],
   "source": [
    "# select staff checkbox members\n",
    "\n",
    "# driver.maximize_window()\n",
    "# sttaf_chechbox = driver.find_element(By.XPATH, value = '//label[@for = \"Staff\"]')\n",
    "# sttaf_chechbox.click()\n",
    "# time.sleep(5)"
   ]
  },
  {
   "cell_type": "markdown",
   "id": "68be3ff3",
   "metadata": {},
   "source": [
    "### Load all results of search"
   ]
  },
  {
   "cell_type": "code",
   "execution_count": 14,
   "id": "5acee857",
   "metadata": {},
   "outputs": [
    {
     "name": "stdout",
     "output_type": "stream",
     "text": [
      "157\n"
     ]
    }
   ],
   "source": [
    "\n",
    "result_count = driver.find_element(By.XPATH, value= '//strong[@class = \"resultCount\"]').text\n",
    "result_count = int(result_count)\n",
    "print(result_count)\n"
   ]
  },
  {
   "cell_type": "code",
   "execution_count": 16,
   "id": "99641bb6",
   "metadata": {},
   "outputs": [],
   "source": [
    "\n",
    "if result_count % 10 == 0:\n",
    "    page_count = result_count // 10 - 1\n",
    "else:\n",
    "    page_count = result_count // 10\n",
    "\n",
    "for i in range(page_count):\n",
    "        next_page = driver.find_element(By.XPATH, value = '//a[@class = \"more-results\" ]')\n",
    "        next_page.get_attribute(\"data-more\")\n",
    "        next_page.click()\n",
    "        time.sleep(10)\n",
    "    "
   ]
  },
  {
   "cell_type": "markdown",
   "id": "913ba296",
   "metadata": {},
   "source": [
    "### get list of sttuf link "
   ]
  },
  {
   "cell_type": "code",
   "execution_count": 17,
   "id": "aba8f0c2",
   "metadata": {},
   "outputs": [],
   "source": [
    "\n",
    "url_list = []\n",
    "\n",
    "all_items_url = driver.find_elements(By.XPATH, value = '//li[@class = \"result clearfix\"]')\n",
    "\n",
    "for i in range(len(all_items_url)):\n",
    "    \n",
    "    # get link of profile for each prof (item) and go that site\n",
    "\n",
    "    item = driver.find_elements(By.XPATH, value = './/li[@class = \"result clearfix\"]')[i]\n",
    "    links_prof_page = item.find_element(By.XPATH , value = './/h2[@class = \"result-title  skim-bottom\"]//a')\n",
    "    links_prof_page = links_prof_page.get_attribute('href')\n",
    "    url_list.append(links_prof_page)\n"
   ]
  },
  {
   "cell_type": "code",
   "execution_count": 18,
   "id": "a1963a19",
   "metadata": {},
   "outputs": [
    {
     "data": {
      "text/html": [
       "<div>\n",
       "<style scoped>\n",
       "    .dataframe tbody tr th:only-of-type {\n",
       "        vertical-align: middle;\n",
       "    }\n",
       "\n",
       "    .dataframe tbody tr th {\n",
       "        vertical-align: top;\n",
       "    }\n",
       "\n",
       "    .dataframe thead th {\n",
       "        text-align: right;\n",
       "    }\n",
       "</style>\n",
       "<table border=\"1\" class=\"dataframe\">\n",
       "  <thead>\n",
       "    <tr style=\"text-align: right;\">\n",
       "      <th></th>\n",
       "      <th>url</th>\n",
       "    </tr>\n",
       "  </thead>\n",
       "  <tbody>\n",
       "    <tr>\n",
       "      <th>0</th>\n",
       "      <td>https://ntu.ac.uk/__search/s/redirect?collecti...</td>\n",
       "    </tr>\n",
       "    <tr>\n",
       "      <th>1</th>\n",
       "      <td>https://ntu.ac.uk/__search/s/redirect?collecti...</td>\n",
       "    </tr>\n",
       "    <tr>\n",
       "      <th>2</th>\n",
       "      <td>https://ntu.ac.uk/__search/s/redirect?collecti...</td>\n",
       "    </tr>\n",
       "    <tr>\n",
       "      <th>3</th>\n",
       "      <td>https://ntu.ac.uk/__search/s/redirect?collecti...</td>\n",
       "    </tr>\n",
       "    <tr>\n",
       "      <th>4</th>\n",
       "      <td>https://ntu.ac.uk/__search/s/redirect?collecti...</td>\n",
       "    </tr>\n",
       "    <tr>\n",
       "      <th>...</th>\n",
       "      <td>...</td>\n",
       "    </tr>\n",
       "    <tr>\n",
       "      <th>155</th>\n",
       "      <td>https://ntu.ac.uk/__search/s/redirect?collecti...</td>\n",
       "    </tr>\n",
       "    <tr>\n",
       "      <th>156</th>\n",
       "      <td>https://ntu.ac.uk/__search/s/redirect?collecti...</td>\n",
       "    </tr>\n",
       "    <tr>\n",
       "      <th>157</th>\n",
       "      <td>https://ntu.ac.uk/__search/s/redirect?collecti...</td>\n",
       "    </tr>\n",
       "    <tr>\n",
       "      <th>158</th>\n",
       "      <td>https://ntu.ac.uk/__search/s/redirect?collecti...</td>\n",
       "    </tr>\n",
       "    <tr>\n",
       "      <th>159</th>\n",
       "      <td>https://ntu.ac.uk/__search/s/redirect?collecti...</td>\n",
       "    </tr>\n",
       "  </tbody>\n",
       "</table>\n",
       "<p>160 rows × 1 columns</p>\n",
       "</div>"
      ],
      "text/plain": [
       "                                                   url\n",
       "0    https://ntu.ac.uk/__search/s/redirect?collecti...\n",
       "1    https://ntu.ac.uk/__search/s/redirect?collecti...\n",
       "2    https://ntu.ac.uk/__search/s/redirect?collecti...\n",
       "3    https://ntu.ac.uk/__search/s/redirect?collecti...\n",
       "4    https://ntu.ac.uk/__search/s/redirect?collecti...\n",
       "..                                                 ...\n",
       "155  https://ntu.ac.uk/__search/s/redirect?collecti...\n",
       "156  https://ntu.ac.uk/__search/s/redirect?collecti...\n",
       "157  https://ntu.ac.uk/__search/s/redirect?collecti...\n",
       "158  https://ntu.ac.uk/__search/s/redirect?collecti...\n",
       "159  https://ntu.ac.uk/__search/s/redirect?collecti...\n",
       "\n",
       "[160 rows x 1 columns]"
      ]
     },
     "execution_count": 18,
     "metadata": {},
     "output_type": "execute_result"
    }
   ],
   "source": [
    "# store urls for each member\n",
    "\n",
    "url_df = pd.DataFrame(url_list, columns = ['url'])\n",
    "url_df"
   ]
  },
  {
   "cell_type": "code",
   "execution_count": 19,
   "id": "fe350ae7",
   "metadata": {},
   "outputs": [
    {
     "data": {
      "text/plain": [
       "150"
      ]
     },
     "execution_count": 19,
     "metadata": {},
     "output_type": "execute_result"
    }
   ],
   "source": [
    "url_df = url_df.drop_duplicates()\n",
    "len(url_df)"
   ]
  },
  {
   "cell_type": "code",
   "execution_count": 20,
   "id": "52007d2a",
   "metadata": {},
   "outputs": [],
   "source": [
    "url_df.to_csv(\"url_df.csv\", index=False)"
   ]
  },
  {
   "cell_type": "markdown",
   "id": "e35ab25f",
   "metadata": {},
   "source": [
    "### click to each link and extract all data"
   ]
  },
  {
   "cell_type": "code",
   "execution_count": 21,
   "id": "3ba7d830",
   "metadata": {},
   "outputs": [
    {
     "name": "stdout",
     "output_type": "stream",
     "text": [
      "How long does it take to scrape the whole webpage? 16324.04880452156 seconds\n"
     ]
    }
   ],
   "source": [
    "\n",
    "data = []\n",
    "\n",
    "for url in url_list:\n",
    "    try:\n",
    "        # In each page of profile,we get name, email, department and research area\n",
    "        driver.get(url)\n",
    "        page_prof = driver.find_elements(By.XPATH , value = '//main[@class = \"main\"]')\n",
    "        \n",
    "        for section in page_prof:\n",
    "            \n",
    "                    try:\n",
    "                        name = section.find_element(By.XPATH , value = \".//h1[@class = 'page-heading skim-top skim-bottom']\").text\n",
    "                    except:\n",
    "                        name = \"Unknown\"\n",
    "                        \n",
    "                    try:\n",
    "                        email = section.find_element(By.XPATH  , value = './/a[@itemprop= \"email\"]').text\n",
    "                    except:\n",
    "                        email = \"Unknown\"\n",
    "\n",
    "                    try:\n",
    "                        department = section.find_element(By.XPATH, value= './/h3[@class = \"skim-top skim-bottom\"]').text\n",
    "                    except:\n",
    "                        department = 'Unknown' \n",
    "\n",
    "                    try:\n",
    "                        research_area = section.find_element(By.XPATH , value = './/div[@class= \"grey-shade key-panel\"]').text\n",
    "                    except:\n",
    "                        research_area = \"Unknown\"\n",
    "\n",
    "                    data.append([name, email, department, research_area])\n",
    "        \n",
    "    \n",
    "    except:\n",
    "        print(\"finished!\")\n",
    "        break\n",
    "\n",
    "print('How long does it take to scrape the whole webpage? {} seconds'.format(time.time() - start_time))\n"
   ]
  },
  {
   "cell_type": "code",
   "execution_count": 22,
   "id": "655202bb",
   "metadata": {},
   "outputs": [
    {
     "data": {
      "text/plain": [
       "159"
      ]
     },
     "execution_count": 22,
     "metadata": {},
     "output_type": "execute_result"
    }
   ],
   "source": [
    "len(data)"
   ]
  },
  {
   "cell_type": "markdown",
   "id": "bea990f6",
   "metadata": {},
   "source": [
    "# Create Pandas Dataframe"
   ]
  },
  {
   "cell_type": "code",
   "execution_count": 23,
   "id": "5b29c3b1",
   "metadata": {},
   "outputs": [
    {
     "data": {
      "text/html": [
       "<div>\n",
       "<style scoped>\n",
       "    .dataframe tbody tr th:only-of-type {\n",
       "        vertical-align: middle;\n",
       "    }\n",
       "\n",
       "    .dataframe tbody tr th {\n",
       "        vertical-align: top;\n",
       "    }\n",
       "\n",
       "    .dataframe thead th {\n",
       "        text-align: right;\n",
       "    }\n",
       "</style>\n",
       "<table border=\"1\" class=\"dataframe\">\n",
       "  <thead>\n",
       "    <tr style=\"text-align: right;\">\n",
       "      <th></th>\n",
       "      <th>Name</th>\n",
       "      <th>email</th>\n",
       "      <th>department</th>\n",
       "      <th>research_area</th>\n",
       "    </tr>\n",
       "  </thead>\n",
       "  <tbody>\n",
       "    <tr>\n",
       "      <th>0</th>\n",
       "      <td>Sergio Rutella</td>\n",
       "      <td>sergio.rutella@ntu.ac.uk</td>\n",
       "      <td>School of Science &amp; Technology</td>\n",
       "      <td>Research areas\\nAreas of clinical research int...</td>\n",
       "    </tr>\n",
       "    <tr>\n",
       "      <th>1</th>\n",
       "      <td>petros siegkas</td>\n",
       "      <td>petros.siegkas@ntu.ac.uk</td>\n",
       "      <td>School of Science &amp; Technology</td>\n",
       "      <td>Research areas\\nDr Siegkas’ research within th...</td>\n",
       "    </tr>\n",
       "    <tr>\n",
       "      <th>2</th>\n",
       "      <td>Richard McFarland</td>\n",
       "      <td>richard.mcfarland@ntu.ac.uk</td>\n",
       "      <td>School of Social Sciences</td>\n",
       "      <td>Research areas\\nThe underlying objective of my...</td>\n",
       "    </tr>\n",
       "    <tr>\n",
       "      <th>3</th>\n",
       "      <td>Dr Seema Patel</td>\n",
       "      <td>seema.patel02@ntu.ac.uk</td>\n",
       "      <td>Nottingham Law School</td>\n",
       "      <td>Research areas\\nSeema has a PhD in sports law,...</td>\n",
       "    </tr>\n",
       "    <tr>\n",
       "      <th>4</th>\n",
       "      <td>Mark Turner</td>\n",
       "      <td>mark.turner@ntu.ac.uk</td>\n",
       "      <td>School of Science &amp; Technology</td>\n",
       "      <td>Research areas\\nResearch in the Turner laborat...</td>\n",
       "    </tr>\n",
       "    <tr>\n",
       "      <th>...</th>\n",
       "      <td>...</td>\n",
       "      <td>...</td>\n",
       "      <td>...</td>\n",
       "      <td>...</td>\n",
       "    </tr>\n",
       "    <tr>\n",
       "      <th>154</th>\n",
       "      <td>John Hunt</td>\n",
       "      <td>john.hunt@ntu.ac.uk</td>\n",
       "      <td>Research Development</td>\n",
       "      <td>Research areas\\nThe Cellular Response to Impla...</td>\n",
       "    </tr>\n",
       "    <tr>\n",
       "      <th>155</th>\n",
       "      <td>Chris Young</td>\n",
       "      <td>chris.young@ntu.ac.uk</td>\n",
       "      <td>School of Social Sciences</td>\n",
       "      <td>Research areas\\nMy primary research interest i...</td>\n",
       "    </tr>\n",
       "    <tr>\n",
       "      <th>156</th>\n",
       "      <td>Graham Pockley</td>\n",
       "      <td>graham.pockley@ntu.ac.uk</td>\n",
       "      <td>School of Science &amp; Technology</td>\n",
       "      <td>Research areas\\nGraham Pockley is Emeritus Pro...</td>\n",
       "    </tr>\n",
       "    <tr>\n",
       "      <th>157</th>\n",
       "      <td>Edwin Chen</td>\n",
       "      <td>edwin.chen@ntu.ac.uk</td>\n",
       "      <td>School of Science &amp; Technology</td>\n",
       "      <td>Research areas\\nEdwin's main research interest...</td>\n",
       "    </tr>\n",
       "    <tr>\n",
       "      <th>158</th>\n",
       "      <td>Gamal Abdelmonem</td>\n",
       "      <td>gamal.abdelmonem@ntu.ac.uk</td>\n",
       "      <td>School of Architecture Design and the Built En...</td>\n",
       "      <td>Research areas\\nProfessor Abdelmonem’s researc...</td>\n",
       "    </tr>\n",
       "  </tbody>\n",
       "</table>\n",
       "<p>159 rows × 4 columns</p>\n",
       "</div>"
      ],
      "text/plain": [
       "                  Name                        email  \\\n",
       "0       Sergio Rutella     sergio.rutella@ntu.ac.uk   \n",
       "1       petros siegkas     petros.siegkas@ntu.ac.uk   \n",
       "2    Richard McFarland  richard.mcfarland@ntu.ac.uk   \n",
       "3       Dr Seema Patel      seema.patel02@ntu.ac.uk   \n",
       "4          Mark Turner        mark.turner@ntu.ac.uk   \n",
       "..                 ...                          ...   \n",
       "154          John Hunt          john.hunt@ntu.ac.uk   \n",
       "155        Chris Young        chris.young@ntu.ac.uk   \n",
       "156     Graham Pockley     graham.pockley@ntu.ac.uk   \n",
       "157         Edwin Chen         edwin.chen@ntu.ac.uk   \n",
       "158   Gamal Abdelmonem   gamal.abdelmonem@ntu.ac.uk   \n",
       "\n",
       "                                            department  \\\n",
       "0                       School of Science & Technology   \n",
       "1                       School of Science & Technology   \n",
       "2                            School of Social Sciences   \n",
       "3                                Nottingham Law School   \n",
       "4                       School of Science & Technology   \n",
       "..                                                 ...   \n",
       "154                               Research Development   \n",
       "155                          School of Social Sciences   \n",
       "156                     School of Science & Technology   \n",
       "157                     School of Science & Technology   \n",
       "158  School of Architecture Design and the Built En...   \n",
       "\n",
       "                                         research_area  \n",
       "0    Research areas\\nAreas of clinical research int...  \n",
       "1    Research areas\\nDr Siegkas’ research within th...  \n",
       "2    Research areas\\nThe underlying objective of my...  \n",
       "3    Research areas\\nSeema has a PhD in sports law,...  \n",
       "4    Research areas\\nResearch in the Turner laborat...  \n",
       "..                                                 ...  \n",
       "154  Research areas\\nThe Cellular Response to Impla...  \n",
       "155  Research areas\\nMy primary research interest i...  \n",
       "156  Research areas\\nGraham Pockley is Emeritus Pro...  \n",
       "157  Research areas\\nEdwin's main research interest...  \n",
       "158  Research areas\\nProfessor Abdelmonem’s researc...  \n",
       "\n",
       "[159 rows x 4 columns]"
      ]
     },
     "execution_count": 23,
     "metadata": {},
     "output_type": "execute_result"
    }
   ],
   "source": [
    "\n",
    "df = pd.DataFrame(data, columns = ['Name', 'email', 'department' , 'research_area'])\n",
    "df\n"
   ]
  },
  {
   "cell_type": "code",
   "execution_count": 24,
   "id": "bb8a1b1b",
   "metadata": {},
   "outputs": [],
   "source": [
    "\n",
    "df = df.drop_duplicates()\n"
   ]
  },
  {
   "cell_type": "code",
   "execution_count": 25,
   "id": "541e2142",
   "metadata": {},
   "outputs": [
    {
     "data": {
      "text/plain": [
       "150"
      ]
     },
     "execution_count": 25,
     "metadata": {},
     "output_type": "execute_result"
    }
   ],
   "source": [
    "len(url_df)"
   ]
  },
  {
   "cell_type": "code",
   "execution_count": 26,
   "id": "cd86f913",
   "metadata": {},
   "outputs": [
    {
     "data": {
      "text/plain": [
       "149"
      ]
     },
     "execution_count": 26,
     "metadata": {},
     "output_type": "execute_result"
    }
   ],
   "source": [
    "len(df)"
   ]
  },
  {
   "cell_type": "code",
   "execution_count": 27,
   "id": "2f1d91ae",
   "metadata": {},
   "outputs": [
    {
     "data": {
      "text/html": [
       "<div>\n",
       "<style scoped>\n",
       "    .dataframe tbody tr th:only-of-type {\n",
       "        vertical-align: middle;\n",
       "    }\n",
       "\n",
       "    .dataframe tbody tr th {\n",
       "        vertical-align: top;\n",
       "    }\n",
       "\n",
       "    .dataframe thead th {\n",
       "        text-align: right;\n",
       "    }\n",
       "</style>\n",
       "<table border=\"1\" class=\"dataframe\">\n",
       "  <thead>\n",
       "    <tr style=\"text-align: right;\">\n",
       "      <th></th>\n",
       "      <th>Name</th>\n",
       "      <th>email</th>\n",
       "      <th>department</th>\n",
       "      <th>research_area</th>\n",
       "      <th>url</th>\n",
       "    </tr>\n",
       "  </thead>\n",
       "  <tbody>\n",
       "    <tr>\n",
       "      <th>0</th>\n",
       "      <td>Sergio Rutella</td>\n",
       "      <td>sergio.rutella@ntu.ac.uk</td>\n",
       "      <td>School of Science &amp; Technology</td>\n",
       "      <td>Research areas\\nAreas of clinical research int...</td>\n",
       "      <td>https://ntu.ac.uk/__search/s/redirect?collecti...</td>\n",
       "    </tr>\n",
       "    <tr>\n",
       "      <th>1</th>\n",
       "      <td>petros siegkas</td>\n",
       "      <td>petros.siegkas@ntu.ac.uk</td>\n",
       "      <td>School of Science &amp; Technology</td>\n",
       "      <td>Research areas\\nDr Siegkas’ research within th...</td>\n",
       "      <td>https://ntu.ac.uk/__search/s/redirect?collecti...</td>\n",
       "    </tr>\n",
       "    <tr>\n",
       "      <th>2</th>\n",
       "      <td>Richard McFarland</td>\n",
       "      <td>richard.mcfarland@ntu.ac.uk</td>\n",
       "      <td>School of Social Sciences</td>\n",
       "      <td>Research areas\\nThe underlying objective of my...</td>\n",
       "      <td>https://ntu.ac.uk/__search/s/redirect?collecti...</td>\n",
       "    </tr>\n",
       "    <tr>\n",
       "      <th>3</th>\n",
       "      <td>Dr Seema Patel</td>\n",
       "      <td>seema.patel02@ntu.ac.uk</td>\n",
       "      <td>Nottingham Law School</td>\n",
       "      <td>Research areas\\nSeema has a PhD in sports law,...</td>\n",
       "      <td>https://ntu.ac.uk/__search/s/redirect?collecti...</td>\n",
       "    </tr>\n",
       "    <tr>\n",
       "      <th>4</th>\n",
       "      <td>Mark Turner</td>\n",
       "      <td>mark.turner@ntu.ac.uk</td>\n",
       "      <td>School of Science &amp; Technology</td>\n",
       "      <td>Research areas\\nResearch in the Turner laborat...</td>\n",
       "      <td>https://ntu.ac.uk/__search/s/redirect?collecti...</td>\n",
       "    </tr>\n",
       "    <tr>\n",
       "      <th>...</th>\n",
       "      <td>...</td>\n",
       "      <td>...</td>\n",
       "      <td>...</td>\n",
       "      <td>...</td>\n",
       "      <td>...</td>\n",
       "    </tr>\n",
       "    <tr>\n",
       "      <th>145</th>\n",
       "      <td>Chris Young</td>\n",
       "      <td>chris.young@ntu.ac.uk</td>\n",
       "      <td>School of Social Sciences</td>\n",
       "      <td>Research areas\\nMy primary research interest i...</td>\n",
       "      <td>https://ntu.ac.uk/__search/s/redirect?collecti...</td>\n",
       "    </tr>\n",
       "    <tr>\n",
       "      <th>146</th>\n",
       "      <td>Graham Pockley</td>\n",
       "      <td>graham.pockley@ntu.ac.uk</td>\n",
       "      <td>School of Science &amp; Technology</td>\n",
       "      <td>Research areas\\nGraham Pockley is Emeritus Pro...</td>\n",
       "      <td>https://ntu.ac.uk/__search/s/redirect?collecti...</td>\n",
       "    </tr>\n",
       "    <tr>\n",
       "      <th>147</th>\n",
       "      <td>Edwin Chen</td>\n",
       "      <td>edwin.chen@ntu.ac.uk</td>\n",
       "      <td>School of Science &amp; Technology</td>\n",
       "      <td>Research areas\\nEdwin's main research interest...</td>\n",
       "      <td>https://ntu.ac.uk/__search/s/redirect?collecti...</td>\n",
       "    </tr>\n",
       "    <tr>\n",
       "      <th>148</th>\n",
       "      <td>Gamal Abdelmonem</td>\n",
       "      <td>gamal.abdelmonem@ntu.ac.uk</td>\n",
       "      <td>School of Architecture Design and the Built En...</td>\n",
       "      <td>Research areas\\nProfessor Abdelmonem’s researc...</td>\n",
       "      <td>https://ntu.ac.uk/__search/s/redirect?collecti...</td>\n",
       "    </tr>\n",
       "    <tr>\n",
       "      <th>149</th>\n",
       "      <td>NaN</td>\n",
       "      <td>NaN</td>\n",
       "      <td>NaN</td>\n",
       "      <td>NaN</td>\n",
       "      <td>https://ntu.ac.uk/__search/s/redirect?collecti...</td>\n",
       "    </tr>\n",
       "  </tbody>\n",
       "</table>\n",
       "<p>150 rows × 5 columns</p>\n",
       "</div>"
      ],
      "text/plain": [
       "                  Name                        email  \\\n",
       "0       Sergio Rutella     sergio.rutella@ntu.ac.uk   \n",
       "1       petros siegkas     petros.siegkas@ntu.ac.uk   \n",
       "2    Richard McFarland  richard.mcfarland@ntu.ac.uk   \n",
       "3       Dr Seema Patel      seema.patel02@ntu.ac.uk   \n",
       "4          Mark Turner        mark.turner@ntu.ac.uk   \n",
       "..                 ...                          ...   \n",
       "145        Chris Young        chris.young@ntu.ac.uk   \n",
       "146     Graham Pockley     graham.pockley@ntu.ac.uk   \n",
       "147         Edwin Chen         edwin.chen@ntu.ac.uk   \n",
       "148   Gamal Abdelmonem   gamal.abdelmonem@ntu.ac.uk   \n",
       "149                NaN                          NaN   \n",
       "\n",
       "                                            department  \\\n",
       "0                       School of Science & Technology   \n",
       "1                       School of Science & Technology   \n",
       "2                            School of Social Sciences   \n",
       "3                                Nottingham Law School   \n",
       "4                       School of Science & Technology   \n",
       "..                                                 ...   \n",
       "145                          School of Social Sciences   \n",
       "146                     School of Science & Technology   \n",
       "147                     School of Science & Technology   \n",
       "148  School of Architecture Design and the Built En...   \n",
       "149                                                NaN   \n",
       "\n",
       "                                         research_area  \\\n",
       "0    Research areas\\nAreas of clinical research int...   \n",
       "1    Research areas\\nDr Siegkas’ research within th...   \n",
       "2    Research areas\\nThe underlying objective of my...   \n",
       "3    Research areas\\nSeema has a PhD in sports law,...   \n",
       "4    Research areas\\nResearch in the Turner laborat...   \n",
       "..                                                 ...   \n",
       "145  Research areas\\nMy primary research interest i...   \n",
       "146  Research areas\\nGraham Pockley is Emeritus Pro...   \n",
       "147  Research areas\\nEdwin's main research interest...   \n",
       "148  Research areas\\nProfessor Abdelmonem’s researc...   \n",
       "149                                                NaN   \n",
       "\n",
       "                                                   url  \n",
       "0    https://ntu.ac.uk/__search/s/redirect?collecti...  \n",
       "1    https://ntu.ac.uk/__search/s/redirect?collecti...  \n",
       "2    https://ntu.ac.uk/__search/s/redirect?collecti...  \n",
       "3    https://ntu.ac.uk/__search/s/redirect?collecti...  \n",
       "4    https://ntu.ac.uk/__search/s/redirect?collecti...  \n",
       "..                                                 ...  \n",
       "145  https://ntu.ac.uk/__search/s/redirect?collecti...  \n",
       "146  https://ntu.ac.uk/__search/s/redirect?collecti...  \n",
       "147  https://ntu.ac.uk/__search/s/redirect?collecti...  \n",
       "148  https://ntu.ac.uk/__search/s/redirect?collecti...  \n",
       "149  https://ntu.ac.uk/__search/s/redirect?collecti...  \n",
       "\n",
       "[150 rows x 5 columns]"
      ]
     },
     "execution_count": 27,
     "metadata": {},
     "output_type": "execute_result"
    }
   ],
   "source": [
    "\n",
    "result = pd.concat([df, url_df], axis=1)\n",
    "result\n"
   ]
  },
  {
   "cell_type": "code",
   "execution_count": 28,
   "id": "6bcc1a99",
   "metadata": {},
   "outputs": [],
   "source": [
    "result.to_csv(\"faculty_member_notthingham.csv\", index=False)"
   ]
  },
  {
   "cell_type": "code",
   "execution_count": null,
   "id": "d18fc042",
   "metadata": {},
   "outputs": [],
   "source": []
  }
 ],
 "metadata": {
  "celltoolbar": "Raw Cell Format",
  "kernelspec": {
   "display_name": "Python 3 (ipykernel)",
   "language": "python",
   "name": "python3"
  },
  "language_info": {
   "codemirror_mode": {
    "name": "ipython",
    "version": 3
   },
   "file_extension": ".py",
   "mimetype": "text/x-python",
   "name": "python",
   "nbconvert_exporter": "python",
   "pygments_lexer": "ipython3",
   "version": "3.11.2"
  }
 },
 "nbformat": 4,
 "nbformat_minor": 5
}
