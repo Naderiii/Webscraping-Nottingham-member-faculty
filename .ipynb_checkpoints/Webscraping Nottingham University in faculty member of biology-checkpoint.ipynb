{
 "cells": [
  {
   "cell_type": "markdown",
   "id": "312c5f89",
   "metadata": {},
   "source": [
    "# Import libraries and modules"
   ]
  },
  {
   "cell_type": "code",
   "execution_count": 1,
   "id": "ac617c6e",
   "metadata": {},
   "outputs": [],
   "source": [
    "# selenium impoet here\n",
    "\n",
    "from selenium import webdriver\n",
    "from selenium.webdriver.common.by import By\n",
    "from selenium.webdriver.chrome.service import Service\n",
    "\n",
    "from selenium.webdriver.support.ui import WebDriverWait\n",
    "from selenium.webdriver.support import expected_conditions as EC\n",
    "from selenium.webdriver.common.keys import Keys\n"
   ]
  },
  {
   "cell_type": "code",
   "execution_count": 2,
   "id": "fcb10c25",
   "metadata": {},
   "outputs": [],
   "source": [
    "# Other import here\n",
    "\n",
    "import pandas as pd\n",
    "import time\n"
   ]
  },
  {
   "cell_type": "markdown",
   "id": "752e067d",
   "metadata": {},
   "source": [
    "# Start and Setup"
   ]
  },
  {
   "cell_type": "code",
   "execution_count": 3,
   "id": "1fe431cf",
   "metadata": {},
   "outputs": [],
   "source": [
    "start_time = time.time()\n",
    "url = \"https://www.ntu.ac.uk/search?query=Faculty+member+of+biology&category=&sort=relevance\"\n",
    "s = Service(\"chromedriver-win32/chromedriver\")\n",
    "\n",
    "driver = webdriver.Chrome(service = s)\n",
    "driver.get(url)\n",
    "time.sleep(3)"
   ]
  },
  {
   "cell_type": "code",
   "execution_count": 4,
   "id": "087c8fb3",
   "metadata": {},
   "outputs": [],
   "source": [
    "# Close cookie banner if present\n",
    "try:\n",
    "    WebDriverWait(driver, 10).until(EC.element_to_be_clickable((By.CLASS_NAME, \"accept-cookies\"))).click()\n",
    "except:\n",
    "    pass"
   ]
  },
  {
   "cell_type": "markdown",
   "id": "e78e2cc4",
   "metadata": {},
   "source": [
    "# Filter staff"
   ]
  },
  {
   "cell_type": "code",
   "execution_count": 5,
   "id": "47809c72",
   "metadata": {},
   "outputs": [],
   "source": [
    "# select staff checkbox members\n",
    "# It should max size of windows in browser\n",
    "\n",
    "sttaf_chechbox = driver.find_element(By.XPATH, value = '//label[@for = \"Staff\"]')\n",
    "sttaf_chechbox.click()\n",
    "time.sleep(5)"
   ]
  },
  {
   "cell_type": "code",
   "execution_count": null,
   "id": "02c8acda",
   "metadata": {},
   "outputs": [],
   "source": [
    "# driver.get('https://www.ntu.ac.uk/staff-profiles/science-technology/mark-turner')\n",
    "\n",
    "# page_prof = driver.find_elements(By.ID , value = \"main\")\n",
    "        \n",
    "# for section in page_prof:\n",
    "#     name = section.find_element(By.XPATH , value = './/div[@class= \"grey-shade key-panel\"]').text\n",
    "#     print(name)"
   ]
  },
  {
   "cell_type": "markdown",
   "id": "731cbe17",
   "metadata": {},
   "source": [
    "# Find data"
   ]
  },
  {
   "cell_type": "code",
   "execution_count": 17,
   "id": "6fd67739",
   "metadata": {},
   "outputs": [
    {
     "name": "stdout",
     "output_type": "stream",
     "text": [
      "first page\n",
      "first page\n",
      "first page\n",
      "first page\n",
      "first page\n",
      "first page\n",
      "first page\n",
      "first page\n",
      "first page\n"
     ]
    }
   ],
   "source": [
    "all_items = driver.find_elements(By.XPATH, value = '//li[@class = \"result clearfix\"]')\n",
    "\n",
    "data = []\n",
    "\n",
    "for item in all_items:\n",
    "    \n",
    "    try:\n",
    "        \n",
    "        link_prof_page = item.find_element(By.XPATH , value = './/h2[@class = \"result-title  skim-bottom\"]//a')\n",
    "        link = link_prof_page.get_attribute('href')\n",
    "        \n",
    "        go_prof_page = item.find_element(By.XPATH , value = './/h2[@class = \"result-title  skim-bottom\"]//a').click()\n",
    "        \n",
    "        driver.get(link)\n",
    "        \n",
    "        page_prof = driver.find_elements(By.XPATH , value = '//main[@class = \"main\"]')\n",
    "        \n",
    "        for section in page_prof:\n",
    "                name = section.find_element(By.XPATH , value = \".//h1[@class='page-heading skim-top skim-bottom']//span[1]\").text\n",
    "                email = section.find_element(By.XPATH  , value = './/a[@itemprop= \"email\"]').text\n",
    "                research_area = section.find_element(By.XPATH , value = './/div[@class= \"grey-shade key-panel\"]').text\n",
    "        \n",
    "\n",
    "        data.append([name, email , research_area])\n",
    "        \n",
    "    except: \n",
    "        print(\"first page\")\n",
    "        "
   ]
  },
  {
   "cell_type": "code",
   "execution_count": 18,
   "id": "ffc115ad",
   "metadata": {},
   "outputs": [
    {
     "data": {
      "text/plain": [
       "[['Mark',\n",
       "  'mark.turner@ntu.ac.uk',\n",
       "  'Research areas\\nResearch in the Turner laboratory focuses upon elucidating molecular causes of disease and in identifying new treatment options. Specific areas of research are as follows:\\nDiet and Diabetes\\nElevated circulating glucose and fatty acid concentrations are known to trigger and exacerbate type 2 diabetes. Dr Turner’s group is interested in identifying those genes whose expression becomes dysregulated during diabetes development, thereby leading to impaired function of key cells and tissues regulating glucose homeostasis. Recent research from the Turner group utilising both Affymetrix microarray and Illumina HiSeq next generation sequencing has enabled us to identify thousands of pancreatic genes whose expression level changes following exposure to high levels of glucose and/or fatty acids. Using a combination of different state-of-the-art non-biased bioinformatic algorithms we have now identified multiple pathways and individual targets that form the basis for current and upcoming outputs and investigations.\\nProtein Adduction, and Protective Action of Reactive Species Scavenging, in Metabolic Diseases\\nProteomic data has recently been acquired from pancreatic beta-cells, skeletal muscle, and serum, detailing advanced glycation and lipidation endproduct modification of proteins exposed to metabolic stress. Crucially, the naturally occurring dipeptide, carnosine, can prevent / reverse many of these damaging modifications, indicating potential therapeutic action of this molecule. However, carnosine turns over quickly in the body, so we are currently screening and characterising a number of slowly-hydrolysable analogs (that act as either carnosinase inhibitors or carnosine mimetics) which could potentially be developed as more powerful treatments for metabolic diseases, including diabetes, obesity, and cancer.\\nIdentification and Manipulation of Novel Targets to Enhance Insulin Secretion\\nExisting diabetes therapies tend to become less effective over time, meaning that there is an urgent and currently unmet clinical need to develop new therapeutic strategies to enhance insulin secretion. Dr Turner’s group has identified a number of intracellular signalling pathways linked to insulin secretion which become dysregulated by glucose and fatty acids. Translational molecular strategies are being pursued that can modify activity of these pathways, with the aim of developing new therapeutic treatments based on these strategies.\\nCurrent opportunities exist to carry out postgraduate research towards an MPhil / PhD in the areas identified above. Further information may be obtained on the NTU Research Degrees website:  https://www.ntu.ac.uk/research/research-degrees-at-ntu\\nResearch Team (2019):\\nMichael Cripps\\nCharlie Lavilla Jr\\nMerell Billacura\\nLaura Lopez-Gonzalez']]"
      ]
     },
     "execution_count": 18,
     "metadata": {},
     "output_type": "execute_result"
    }
   ],
   "source": [
    "data"
   ]
  },
  {
   "cell_type": "code",
   "execution_count": null,
   "id": "c9ebd88b",
   "metadata": {},
   "outputs": [],
   "source": []
  },
  {
   "cell_type": "code",
   "execution_count": null,
   "id": "37801475",
   "metadata": {},
   "outputs": [],
   "source": []
  },
  {
   "cell_type": "code",
   "execution_count": null,
   "id": "f1c0c4d1",
   "metadata": {},
   "outputs": [],
   "source": []
  },
  {
   "cell_type": "code",
   "execution_count": null,
   "id": "35ba586f",
   "metadata": {},
   "outputs": [],
   "source": []
  },
  {
   "cell_type": "code",
   "execution_count": null,
   "id": "1ec43c23",
   "metadata": {},
   "outputs": [],
   "source": []
  },
  {
   "cell_type": "code",
   "execution_count": null,
   "id": "c5ef8a85",
   "metadata": {},
   "outputs": [],
   "source": []
  },
  {
   "cell_type": "code",
   "execution_count": null,
   "id": "ae6e5be7",
   "metadata": {},
   "outputs": [],
   "source": [
    "all_items = driver.find_elements(By.XPATH, value = '//li[@class = \"result clearfix\"]')\n",
    "\n",
    "data = []\n",
    "\n",
    "for item in all_items:\n",
    "#     try:\n",
    "#         name = item.find_element(By.XPATH, value = './/h2[@class = \"result-title  skim-bottom\"]//a').text\n",
    "#     except:\n",
    "#         name = 'Unknown'\n",
    "        \n",
    "    try:\n",
    "        name_url = item.find_element(By.XPATH, value = './/h2[@class = \"result-title  skim-bottom\"]//a')\n",
    "        stuff_url = name_url.get(\"href\")\n",
    "        for url in stuff_url:\n",
    "            url.click()\n",
    "            \n",
    "#             email = item.find_element(By.XPATH, value = '')\n",
    "            \n",
    "            \n",
    "        \n",
    "    except:\n",
    "        pass\n",
    "    \n",
    "#     try:\n",
    "#         area_expertise = item.find_element(By.XPATH, value = './/div[@class = \"small-8 medium-9 large-9 columns listing-details\"]//p[not(@*)]').text\n",
    "        \n",
    "#     except:\n",
    "#         area_expertise = 'Unknown'\n",
    "        \n",
    "#     data.append(stuff_url)"
   ]
  },
  {
   "cell_type": "code",
   "execution_count": null,
   "id": "4d433536",
   "metadata": {},
   "outputs": [],
   "source": [
    "data"
   ]
  },
  {
   "cell_type": "code",
   "execution_count": null,
   "id": "ff0070db",
   "metadata": {},
   "outputs": [],
   "source": []
  },
  {
   "cell_type": "code",
   "execution_count": null,
   "id": "75d4a898",
   "metadata": {},
   "outputs": [],
   "source": []
  },
  {
   "cell_type": "code",
   "execution_count": null,
   "id": "7a3095cd",
   "metadata": {},
   "outputs": [],
   "source": []
  },
  {
   "cell_type": "code",
   "execution_count": null,
   "id": "de90c32a",
   "metadata": {},
   "outputs": [],
   "source": []
  },
  {
   "cell_type": "code",
   "execution_count": null,
   "id": "f803c4ab",
   "metadata": {},
   "outputs": [],
   "source": []
  },
  {
   "cell_type": "code",
   "execution_count": null,
   "id": "b786899c",
   "metadata": {},
   "outputs": [],
   "source": []
  },
  {
   "cell_type": "code",
   "execution_count": null,
   "id": "e83937b7",
   "metadata": {},
   "outputs": [],
   "source": []
  },
  {
   "cell_type": "code",
   "execution_count": null,
   "id": "4e45389a",
   "metadata": {},
   "outputs": [],
   "source": []
  },
  {
   "cell_type": "code",
   "execution_count": null,
   "id": "748351b5",
   "metadata": {},
   "outputs": [],
   "source": []
  }
 ],
 "metadata": {
  "kernelspec": {
   "display_name": "Python 3 (ipykernel)",
   "language": "python",
   "name": "python3"
  },
  "language_info": {
   "codemirror_mode": {
    "name": "ipython",
    "version": 3
   },
   "file_extension": ".py",
   "mimetype": "text/x-python",
   "name": "python",
   "nbconvert_exporter": "python",
   "pygments_lexer": "ipython3",
   "version": "3.11.2"
  }
 },
 "nbformat": 4,
 "nbformat_minor": 5
}
